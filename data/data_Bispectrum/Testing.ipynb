{
 "cells": [
  {
   "cell_type": "code",
   "execution_count": 1,
   "metadata": {},
   "outputs": [
    {
     "name": "stderr",
     "output_type": "stream",
     "text": [
      "Using TensorFlow backend.\n"
     ]
    }
   ],
   "source": [
    "import numpy as np\n",
    "import keras as ks\n",
    "import matplotlib.pyplot as plt\n",
    "from ipywidgets import interact\n",
    "from matplotlib import colors"
   ]
  },
  {
   "cell_type": "code",
   "execution_count": 2,
   "metadata": {},
   "outputs": [],
   "source": [
    "path = '/home/ht/EmuPBk/data/data_Bispectrum/k0.2/'"
   ]
  },
  {
   "cell_type": "code",
   "execution_count": 3,
   "metadata": {},
   "outputs": [],
   "source": [
    "Bk_02_test = np.loadtxt(path+'Bk_test')\n",
    "params_test = np.loadtxt(path+'params_test')\n",
    "x_H1_test = np.loadtxt(path+'x_HI02')\n",
    "index = np.loadtxt(path+'index')"
   ]
  },
  {
   "cell_type": "code",
   "execution_count": null,
   "metadata": {},
   "outputs": [],
   "source": []
  },
  {
   "cell_type": "code",
   "execution_count": 4,
   "metadata": {},
   "outputs": [],
   "source": [
    "model = ks.models.load_model(path+'98bk02.h5')"
   ]
  },
  {
   "cell_type": "code",
   "execution_count": 5,
   "metadata": {},
   "outputs": [],
   "source": [
    "Bk_02_pdct = model.predict(params_test)"
   ]
  },
  {
   "cell_type": "code",
   "execution_count": 6,
   "metadata": {},
   "outputs": [
    {
     "data": {
      "text/plain": [
       "((18, 550), (18, 550))"
      ]
     },
     "execution_count": 6,
     "metadata": {},
     "output_type": "execute_result"
    }
   ],
   "source": [
    "Bk_02_pdct.shape, Bk_02_test.shape"
   ]
  },
  {
   "cell_type": "code",
   "execution_count": 7,
   "metadata": {},
   "outputs": [],
   "source": [
    "ind = np.zeros(len(index),dtype = int)\n",
    "for i in range(len(ind)):\n",
    "    ind[i] = int(index[i])"
   ]
  },
  {
   "cell_type": "code",
   "execution_count": 8,
   "metadata": {},
   "outputs": [],
   "source": [
    "x_H1_test = x_H1_test[ind]"
   ]
  },
  {
   "cell_type": "code",
   "execution_count": null,
   "metadata": {},
   "outputs": [],
   "source": [
    "cov = np.zeros(shape=(len(Bk_02_test),550,550))\n",
    "for i in range(len(Bk_02_test)):\n",
    "    for j in range(550):\n",
    "        cov[i][j][j] = Bk_02_test[i][j]/np.sqrt(N_bins_test[i][j])"
   ]
  },
  {
   "cell_type": "code",
   "execution_count": null,
   "metadata": {},
   "outputs": [],
   "source": [
    "np.savetxt(path+'cov_inv_test',cov[0])"
   ]
  },
  {
   "cell_type": "code",
   "execution_count": 9,
   "metadata": {},
   "outputs": [
    {
     "data": {
      "text/plain": [
       "((11, 1), (50,))"
      ]
     },
     "execution_count": 9,
     "metadata": {},
     "output_type": "execute_result"
    }
   ],
   "source": [
    "k1 = np.array([0.1903934])\n",
    "#k1 = np.array([0.3220935, 1.559453 ])\n",
    "k2byk1 = np.arange(0.50,1.05,0.05) \t\t#======Ratio k2byk1========#\n",
    "cosalpha = np.arange(0.50,1.00,0.01)\t#======cosine of the angle between the k2 and k1 arms =======#\n",
    "k2byk1 = k2byk1.reshape(11,1)\n",
    "k2byk1.shape, cosalpha.shape"
   ]
  },
  {
   "cell_type": "code",
   "execution_count": 48,
   "metadata": {},
   "outputs": [],
   "source": [
    "def Bk(params):\n",
    "    Bk = model.predict(params)\n",
    "    Bk = np.reshape(Bk,(11,50))\n",
    "    Bk = Bk*100.\n",
    "    cond = k2byk1*cosalpha\n",
    "    for j in range(len(k2byk1)):\n",
    "        for k in range(len(cosalpha)):\n",
    "            if cond[j][k] < 0.5:\n",
    "                Bk[j][k] = np.nan\n",
    "    Bk = np.ma.masked_invalid(Bk)\n",
    "    return Bk"
   ]
  },
  {
   "cell_type": "code",
   "execution_count": 51,
   "metadata": {},
   "outputs": [],
   "source": [
    "def plot(N_ion,R_mfp,NoH):\n",
    "    \n",
    "    plt.figure(figsize= (8,7))\n",
    "    plt.tick_params(labelsize=10)\n",
    "\n",
    "    plt.suptitle(r'At $k_1$ = {0:f}, $\\zeta$ = {1:.2f}, $Rmfp$= {2:.2f}, $M_h$= {3:.2f}$\\times 10^8 M_\\odot$'\n",
    "                 .format(k1[0],N_ion , R_mfp ,1.087*NoH),size=15)\n",
    "    \n",
    "    plt.title('Bispectrum')\n",
    "    plt.imshow(Bk([[[N_ion,R_mfp,NoH]]]),origin='lower',extent=[0.50,0.99,0.50,1.00],cmap=\"Spectral\",norm=colors.SymLogNorm(linthresh=1, linscale=1,\n",
    "                                              vmin=-10000.0, vmax=10000.0))\n",
    "    cbar = plt.colorbar(label=r\"$\\frac{k_1^3.k_2^3.B(k_1,k_2,k_3).\\delta T_b^3}{(2\\pi^2)^2}$\",)\n",
    "    cbar.ax.yaxis.label.set_size(20,)\n",
    "    plt.xlabel(r'$cos(\\alpha)$')\n",
    "    plt.ylabel(r'$k_2/k_1$')   "
   ]
  },
  {
   "cell_type": "code",
   "execution_count": 53,
   "metadata": {},
   "outputs": [
    {
     "data": {
      "image/png": "[encoded data removed]",
      "text/plain": [
       "<Figure size 576x504 with 2 Axes>"
      ]
     },
     "metadata": {},
     "output_type": "display_data"
    }
   ],
   "source": [
    "interact(plot,N_ion=(20,200,10),R_mfp = (10,100,10),NoH=(10,1500,20))"
   ]
  },
  {
   "cell_type": "code",
   "execution_count": null,
   "metadata": {},
   "outputs": [],
   "source": [
    "    "
   ]
  },
  {
   "cell_type": "code",
   "execution_count": null,
   "metadata": {},
   "outputs": [],
   "source": []
  },
  {
   "cell_type": "code",
   "execution_count": null,
   "metadata": {},
   "outputs": [],
   "source": []
  },
  {
   "cell_type": "code",
   "execution_count": 10,
   "metadata": {},
   "outputs": [],
   "source": [
    "Bk_test = np.zeros(shape=(len(Bk_02_test),11,50))\n",
    "Bk_pdct = np.zeros(shape=(len(Bk_02_pdct),11,50))\n",
    "for i in range(len(Bk_02_test)):\n",
    "    Bk_pdct[i] = Bk_02_pdct[i].reshape(11,50)\n",
    "    Bk_test[i] = Bk_02_test[i].reshape(11,50)\n",
    "\n",
    "Bk_pdct = Bk_pdct*100\n",
    "Bk_test = Bk_test"
   ]
  },
  {
   "cell_type": "code",
   "execution_count": 11,
   "metadata": {},
   "outputs": [],
   "source": [
    "cond = k2byk1*cosalpha\n"
   ]
  },
  {
   "cell_type": "code",
   "execution_count": 12,
   "metadata": {},
   "outputs": [],
   "source": [
    "cond = k2byk1*cosalpha\n",
    "for i in range(len(Bk_test)):\n",
    "    for j in range(len(k2byk1)):\n",
    "        for k in range(len(cosalpha)):\n",
    "            if cond[j][k] < 0.5:\n",
    "                Bk_pdct[i][j][k] = np.nan\n",
    "                Bk_test[i][j][k] = np.nan\n",
    "\n",
    "Bk_pdct = np.ma.masked_invalid(Bk_pdct)\n",
    "Bk_test = np.ma.masked_invalid(Bk_test)"
   ]
  },
  {
   "cell_type": "code",
   "execution_count": 46,
   "metadata": {},
   "outputs": [],
   "source": [
    "def plot(test_set):\n",
    "    index = test_set\n",
    "    plt.figure(figsize= (16,6))\n",
    "    plt.tick_params(labelsize=10)\n",
    "\n",
    "    #fig.colorbar(pcm, ax=ax[0], extend='both')\n",
    "    plt.suptitle(r'At $k_1$ = {0:f},$x_H$ = {1:.3f}, $\\zeta$ = {2:.2f}, $Rmfp$= {3:.2f}, $M_h$= {4:.2f}$\\times 10^8 M_\\odot$'\n",
    "                 .format(k1[0],x_H1_test[index],params_test[index][0] , params_test[index][1] ,1.087*params_test[index][2]),size=15)\n",
    "    \n",
    "   \n",
    "    plt.subplot(1,2,1)\n",
    "    plt.title('Bispectrum')\n",
    "    plt.imshow(Bk_test[index],origin='lower',extent=[0.50,0.99,0.50,1.00], cmap=\"Spectral\",norm=colors.SymLogNorm(linthresh=1, linscale=1,\n",
    "                                              vmin=-10000.0, vmax=10000.0))\n",
    "    cbar = plt.colorbar(label=r\"$\\frac{k_1^3.k_2^3.B(k_1,k_2,k_3).\\delta T_b^3}{(2\\pi^2)^2}$\",)\n",
    "    cbar.ax.yaxis.label.set_size(20,)\n",
    "    plt.xlabel(r'$cos(\\alpha)$')\n",
    "    plt.ylabel(r'$k_2/k_1$')   \n",
    "    \n",
    "    plt.subplot(1,2,2)\n",
    "    plt.title('ANN prediction')\n",
    "    plt.imshow(Bk_pdct[index],origin='lower',extent=[0.50,0.99,0.50,1.00], cmap=\"Spectral\",norm=colors.SymLogNorm(linthresh=1, linscale=1,\n",
    "                                              vmin=-10000.0, vmax=10000.0))\n",
    "    cbar = plt.colorbar(label=r\"$\\frac{k_1^3.k_2^3.B(k_1,k_2,k_3).\\delta T_b^3}{(2\\pi^2)^2}$\",)\n",
    "    cbar.ax.yaxis.label.set_size(20,)\n",
    "    plt.ylabel(r'$k_2/k_1$') \n",
    "    plt.xlabel(r'$cos(\\alpha)$')\n",
    "    \n",
    "  \n",
    "\n",
    "            "
   ]
  },
  {
   "cell_type": "code",
   "execution_count": 47,
   "metadata": {},
   "outputs": [
    {
     "data": {
      "image/png": "[encoded data removed]",
      "text/plain": [
       "<Figure size 1152x432 with 4 Axes>"
      ]
     },
     "metadata": {},
     "output_type": "display_data"
    }
   ],
   "source": [
    "interact(plot, test_set =(0,len(Bk_test)-1,1))"
   ]
  },
  {
   "cell_type": "code",
   "execution_count": null,
   "metadata": {},
   "outputs": [],
   "source": [
    "import cPickle as cp\n",
    "import numpy as np"
   ]
  },
  {
   "cell_type": "code",
   "execution_count": null,
   "metadata": {},
   "outputs": [],
   "source": [
    "Ntbins02 = cp.load(open('N0.2.pkl','rb'))\n",
    "Ntbins03 = cp.load(open('N0.3.pkl','rb'))\n",
    "Ntbins15 = cp.load(open('N15.pkl','rb'))\n",
    "Bk = cp.load(open('Bispec0.2.pkl','rb'))"
   ]
  },
  {
   "cell_type": "code",
   "execution_count": null,
   "metadata": {},
   "outputs": [],
   "source": [
    "Ntbins02.shape,Ntbins03.shape,Ntbins15.shape,Bk.shape"
   ]
  },
  {
   "cell_type": "code",
   "execution_count": null,
   "metadata": {},
   "outputs": [],
   "source": [
    "a = np.argwhere(np.isnan(Bk))\n",
    "a= a[:,0]\n",
    "a = set(a)\n",
    "a = list(a)\n",
    "a"
   ]
  },
  {
   "cell_type": "code",
   "execution_count": null,
   "metadata": {},
   "outputs": [],
   "source": [
    "Ntbins02 = np.delete(Ntbins02,a,axis = 0)\n",
    "Ntbins03 = np.delete(Ntbins03,a,axis = 0)\n",
    "Ntbins15 = np.delete(Ntbins15,a,axis = 0)\n",
    "Bk = np.delete(Bk,a,axis=0)"
   ]
  },
  {
   "cell_type": "code",
   "execution_count": null,
   "metadata": {},
   "outputs": [],
   "source": [
    "Ntbins02,Ntbins03,Ntbins15"
   ]
  },
  {
   "cell_type": "code",
   "execution_count": null,
   "metadata": {},
   "outputs": [],
   "source": [
    "rootN = np.sqrt(Ntbins02)"
   ]
  },
  {
   "cell_type": "code",
   "execution_count": null,
   "metadata": {},
   "outputs": [],
   "source": [
    "sigma = np.zeros(shape=Bk.shape)\n",
    "for i in range(len(Bk)):\n",
    "\n",
    "    sigma[i] = Bk[i]*1./rootN[i]"
   ]
  },
  {
   "cell_type": "code",
   "execution_count": null,
   "metadata": {},
   "outputs": [],
   "source": [
    "sigma"
   ]
  },
  {
   "cell_type": "code",
   "execution_count": null,
   "metadata": {},
   "outputs": [],
   "source": []
  }
 ],
 "metadata": {
  "kernelspec": {
   "display_name": "Python 3",
   "language": "python",
   "name": "python3"
  },
  "language_info": {
   "codemirror_mode": {
    "name": "ipython",
    "version": 3
   },
   "file_extension": ".py",
   "mimetype": "text/x-python",
   "name": "python",
   "nbconvert_exporter": "python",
   "pygments_lexer": "ipython3",
   "version": "3.6.9"
  }
 },
 "nbformat": 4,
 "nbformat_minor": 2
}
