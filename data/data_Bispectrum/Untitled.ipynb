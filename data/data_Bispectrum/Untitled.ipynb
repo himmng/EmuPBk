{
 "cells": [
  {
   "cell_type": "code",
   "execution_count": 1,
   "metadata": {},
   "outputs": [],
   "source": [
    "import numpy as np"
   ]
  },
  {
   "cell_type": "code",
   "execution_count": 2,
   "metadata": {},
   "outputs": [],
   "source": [
    "path1 = '/home/ht/EmuPBk/data/data_Bispectrum/k0.2/'\n",
    "path2 = '/home/ht/EmuPBk/data/data_Bispectrum/k0.3/'\n",
    "path3 = '/home/ht/EmuPBk/data/data_Bispectrum/k1.5/'"
   ]
  },
  {
   "cell_type": "code",
   "execution_count": 3,
   "metadata": {},
   "outputs": [],
   "source": [
    "b1 = np.loadtxt(path1+'bk_un02')\n",
    "b2 = np.loadtxt(path2+'bk_un03')\n",
    "b3 = np.loadtxt(path3+'bk_un15')"
   ]
  },
  {
   "cell_type": "code",
   "execution_count": 4,
   "metadata": {},
   "outputs": [],
   "source": [
    "B1 = np.zeros(shape=(1058,11,50))\n",
    "B2 = np.zeros(shape=(1058,11,50))\n",
    "B3 = np.zeros(shape=(1058,11,50))\n",
    "for i in range(len(B1)):\n",
    "    B1[i] = np.reshape(b1[i],(11,50))\n",
    "    B2[i] = np.reshape(b2[i],(11,50))\n",
    "    B3[i] = np.reshape(b3[i],(11,50))"
   ]
  },
  {
   "cell_type": "code",
   "execution_count": 5,
   "metadata": {},
   "outputs": [
    {
     "data": {
      "text/plain": [
       "((11, 1), (50,))"
      ]
     },
     "execution_count": 5,
     "metadata": {},
     "output_type": "execute_result"
    }
   ],
   "source": [
    "k1 = np.array([0.1903934,0.3220935, 1.559453 ])\n",
    "k2byk1 = np.arange(0.50,1.05,0.05) \t\t#======Ratio k2byk1========#\n",
    "cosalpha = np.arange(0.50,1.00,0.01)\t#======cosine of the angle between the k2 and k1 arms =======#\n",
    "k2byk1 = k2byk1.reshape(11,1)\n",
    "k2byk1.shape, cosalpha.shape"
   ]
  },
  {
   "cell_type": "code",
   "execution_count": 8,
   "metadata": {},
   "outputs": [],
   "source": [
    "k21 = k2byk1*k1[0]          #========values of k2 for k1 = 0.3\n",
    "k22 = k2byk1*k1[1]\n",
    "k23 = k2byk1*k1[2]\n",
    "\n",
    "b1 = (k1[0]**3)*((B1*(k21**3))/(2*np.pi**2)**2) # at\n",
    "b2 = (k1[1]**3)*((B2*(k22**3))/(2*np.pi**2)**2) # at \n",
    "b3 = (k1[2]**3)*((B3*(k23**3))/(2*np.pi**2)**2) # at \n"
   ]
  },
  {
   "cell_type": "code",
   "execution_count": 9,
   "metadata": {},
   "outputs": [],
   "source": [
    "x1 = np.loadtxt(path1+'x_HI02')\n",
    "x2 = np.loadtxt(path2+'x_HI03')\n",
    "x3 = np.loadtxt(path3+'x_HI15')"
   ]
  },
  {
   "cell_type": "code",
   "execution_count": 10,
   "metadata": {},
   "outputs": [],
   "source": [
    "z = 9.210                                               #================ redshift used in the simulation============#\n",
    "h = 0.6704\n",
    "Omega_b = 0.049\n",
    "Omega_m = 0.3183                                     #==============matter density parameter values used in simulation====#\n",
    "Omega_bh2 = Omega_b*(h**2)\n",
    "Omega_mh2 = Omega_m*(h**2)\n",
    "#================================================================================================================#\n",
    "\n",
    "\n",
    "dT_b1 = 27.0 * x1 * (Omega_bh2 / 0.023) * np.power(((0.15 * (1. + z)) / (10. * Omega_mh2)), 0.50)\n",
    "dT_b2 = 27.0 * x2 * (Omega_bh2 / 0.023) * np.power(((0.15 * (1. + z)) / (10. * Omega_mh2)), 0.50)\n",
    "dT_b3 = 27.0 * x3 * (Omega_bh2 / 0.023) * np.power(((0.15 * (1. + z)) / (10. * Omega_mh2)), 0.50)"
   ]
  },
  {
   "cell_type": "code",
   "execution_count": 11,
   "metadata": {},
   "outputs": [
    {
     "data": {
      "text/plain": [
       "(1058, 1)"
      ]
     },
     "execution_count": 11,
     "metadata": {},
     "output_type": "execute_result"
    }
   ],
   "source": [
    "dT_b13 = dT_b1**3\n",
    "dT_b23 = dT_b2**3\n",
    "dT_b33 = dT_b3**3\n",
    "\n",
    "dT_b13 = np.reshape(dT_b13 ,(len(dT_b13 ),1))\n",
    "dT_b23 = np.reshape(dT_b23 ,(len(dT_b23 ),1))\n",
    "dT_b33 = np.reshape(dT_b33 ,(len(dT_b33 ),1))\n",
    "dT_b33.shape"
   ]
  },
  {
   "cell_type": "code",
   "execution_count": null,
   "metadata": {},
   "outputs": [],
   "source": []
  },
  {
   "cell_type": "code",
   "execution_count": null,
   "metadata": {},
   "outputs": [],
   "source": []
  },
  {
   "cell_type": "code",
   "execution_count": null,
   "metadata": {},
   "outputs": [],
   "source": [
    "#============calculating the Bispectrum ==============#\n",
    "\n",
    "k21 = k2byk1*k1[0]          #========values of k2 for k1 = 0.3\n",
    "k22 = k2byk1*k1[1]\n",
    "k23 = k2byk1*k1[2]\n",
    "b1 = (k1[0]**3)*((b1*(k21**3))/(2*np.pi**2)**2) # at k = 0.19\n",
    "b2 = (k1[1]**3)*((b2*(k22**3))/(2*np.pi**2)**2) # at k = 1.5\n",
    "b3 = (k1[1]**3)*((b3*(k23**3))/(2*np.pi**2)**2) # at k = 1.5"
   ]
  },
  {
   "cell_type": "code",
   "execution_count": 13,
   "metadata": {},
   "outputs": [],
   "source": [
    "B1 = np.zeros(shape=(1058,550))\n",
    "B2 = np.zeros(shape=(1058,550))\n",
    "B3 = np.zeros(shape=(1058,550))\n",
    "for i in range(len(B1)):\n",
    "    B1[i] = np.ndarray.flatten(b1[i])\n",
    "    B2[i] = np.ndarray.flatten(b2[i])\n",
    "    B3[i] = np.ndarray.flatten(b3[i])"
   ]
  },
  {
   "cell_type": "code",
   "execution_count": 14,
   "metadata": {},
   "outputs": [],
   "source": [
    "b1 = B1*dT_b13\n",
    "b2 = B2*dT_b23\n",
    "b3 = B3*dT_b33"
   ]
  },
  {
   "cell_type": "code",
   "execution_count": 15,
   "metadata": {},
   "outputs": [],
   "source": [
    "np.savetxt(path1+'bk_norm02',b1)\n",
    "np.savetxt(path2+'bk_norm03',b2)\n",
    "np.savetxt(path3+'bk_norm15',b3)"
   ]
  },
  {
   "cell_type": "code",
   "execution_count": null,
   "metadata": {},
   "outputs": [],
   "source": []
  },
  {
   "cell_type": "code",
   "execution_count": null,
   "metadata": {},
   "outputs": [],
   "source": [
    "for i in range(len(b1)):\n",
    "    for j in range(len(k2byk1)):\n",
    "        b1[i][j] = np.flip(b1[i][j])\n",
    "        b2[i][j] = np.flip(b2[i][j])\n",
    "        b3[i][j] = np.flip(b3[i][j])\n",
    "        \n",
    "        x1[i][j] = np.flip(x1[i][j])\n",
    "        x2[i][j] = np.flip(x2[i][j])\n",
    "        x3[i][j] = np.flip(x3[i][j])"
   ]
  },
  {
   "cell_type": "code",
   "execution_count": null,
   "metadata": {},
   "outputs": [],
   "source": [
    "b1[0][0]"
   ]
  },
  {
   "cell_type": "code",
   "execution_count": null,
   "metadata": {},
   "outputs": [],
   "source": [
    "xx1 = np.zeros(shape=(len(x1),550))\n",
    "xx2 = np.zeros(shape=(len(x1),550))\n",
    "xx3 = np.zeros(shape=(len(x1),550))\n",
    "\n",
    "bb1 = np.zeros(shape=(len(b1),550))\n",
    "bb2 = np.zeros(shape=(len(b1),550))\n",
    "bb3 = np.zeros(shape=(len(b1),550))\n",
    "\n",
    "\n",
    "for i in range(len(x1)):\n",
    "    xx1[i] = np.ndarray.flatten(x1[i])\n",
    "    xx2[i] = np.ndarray.flatten(x2[i])\n",
    "    xx3[i] = np.ndarray.flatten(x3[i])\n",
    "    \n",
    "    bb1[i] = np.ndarray.flatten(b1[i])\n",
    "    bb2[i] = np.ndarray.flatten(b2[i])\n",
    "    bb3[i] = np.ndarray.flatten(b3[i])"
   ]
  },
  {
   "cell_type": "code",
   "execution_count": null,
   "metadata": {},
   "outputs": [],
   "source": []
  },
  {
   "cell_type": "code",
   "execution_count": null,
   "metadata": {},
   "outputs": [],
   "source": [
    "np.savetxt(path1+'nbins02',xx1)\n",
    "np.savetxt(path2+'nbins03',xx2)\n",
    "np.savetxt(path3+'nbins15',xx3)\n",
    "\n",
    "np.savetxt(path1+'bk_un02',bb1)\n",
    "np.savetxt(path2+'bk_un03',bb2)\n",
    "np.savetxt(path3+'bk_un15',bb3)"
   ]
  }
 ],
 "metadata": {
  "kernelspec": {
   "display_name": "Python 2",
   "language": "python",
   "name": "python2"
  },
  "language_info": {
   "codemirror_mode": {
    "name": "ipython",
    "version": 2
   },
   "file_extension": ".py",
   "mimetype": "text/x-python",
   "name": "python",
   "nbconvert_exporter": "python",
   "pygments_lexer": "ipython2",
   "version": "2.7.17"
  }
 },
 "nbformat": 4,
 "nbformat_minor": 2
}
