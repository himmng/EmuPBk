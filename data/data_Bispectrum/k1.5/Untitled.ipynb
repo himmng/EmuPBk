{
 "cells": [
  {
   "cell_type": "code",
   "execution_count": 1,
   "metadata": {},
   "outputs": [],
   "source": [
    "import matplotlib.pyplot as plt\n",
    "import numpy as np"
   ]
  },
  {
   "cell_type": "code",
   "execution_count": 6,
   "metadata": {},
   "outputs": [],
   "source": [
    "p0 = 15.0"
   ]
  },
  {
   "cell_type": "code",
   "execution_count": 32,
   "metadata": {},
   "outputs": [],
   "source": [
    "p = []\n",
    "for i in range(1000):\n",
    "    x = 15*(np.random.randn())\n",
    "    if x < 15.5 and x > 14.5:\n",
    "        p.append(x)\n",
    "        "
   ]
  },
  {
   "cell_type": "code",
   "execution_count": 33,
   "metadata": {},
   "outputs": [
    {
     "data": {
      "text/plain": [
       "[14.958149434453873,\n",
       " 15.497529321150452,\n",
       " 15.128094852578291,\n",
       " 14.831595411979517,\n",
       " 14.583102092939752,\n",
       " 15.05676289773358,\n",
       " 14.803379813628423,\n",
       " 14.780448699940436,\n",
       " 14.77825077361646,\n",
       " 15.357426715438924,\n",
       " 15.380216356218089,\n",
       " 14.823226826320889,\n",
       " 14.766941331767102,\n",
       " 15.095149806897693,\n",
       " 14.682818614483972,\n",
       " 15.341114150628146,\n",
       " 15.033306449787103,\n",
       " 15.143880227219563]"
      ]
     },
     "execution_count": 33,
     "metadata": {},
     "output_type": "execute_result"
    }
   ],
   "source": [
    "p"
   ]
  },
  {
   "cell_type": "code",
   "execution_count": 30,
   "metadata": {},
   "outputs": [
    {
     "data": {
      "text/plain": [
       "13.238816879216936"
      ]
     },
     "execution_count": 30,
     "metadata": {},
     "output_type": "execute_result"
    }
   ],
   "source": [
    "15*np.random.randn()"
   ]
  },
  {
   "cell_type": "code",
   "execution_count": null,
   "metadata": {},
   "outputs": [],
   "source": []
  }
 ],
 "metadata": {
  "kernelspec": {
   "display_name": "Python 3",
   "language": "python",
   "name": "python3"
  },
  "language_info": {
   "codemirror_mode": {
    "name": "ipython",
    "version": 3
   },
   "file_extension": ".py",
   "mimetype": "text/x-python",
   "name": "python",
   "nbconvert_exporter": "python",
   "pygments_lexer": "ipython3",
   "version": "3.6.9"
  }
 },
 "nbformat": 4,
 "nbformat_minor": 2
}
