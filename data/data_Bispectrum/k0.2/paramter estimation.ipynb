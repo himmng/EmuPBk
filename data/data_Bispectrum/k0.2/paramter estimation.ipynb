{
 "cells": [
  {
   "cell_type": "code",
   "execution_count": 1,
   "metadata": {},
   "outputs": [
    {
     "name": "stderr",
     "output_type": "stream",
     "text": [
      "Using TensorFlow backend.\n"
     ]
    }
   ],
   "source": [
    "import numpy as np\n",
    "import matplotlib.pyplot as plt\n",
    "import cosmoHammer as cm\n",
    "import keras as ks"
   ]
  },
  {
   "cell_type": "code",
   "execution_count": 2,
   "metadata": {},
   "outputs": [
    {
     "name": "stdout",
     "output_type": "stream",
     "text": [
      " 98bk02.h5         cov_inv_test       \u001b[0m\u001b[01;35mindex.png\u001b[0m     params_test\r\n",
      " \u001b[01;34mbinary_data_02\u001b[0m/   dTb02              \u001b[01;35mlvac02.png\u001b[0m   'paramter estimation.ipynb'\r\n",
      " bk_norm02         EmuBk0.2.h5        nbins02       script.py\r\n",
      " Bk_test           hyperparam.ipynb   N_bins_test   x_HI02\r\n",
      " bk_un02           index              params02\r\n"
     ]
    }
   ],
   "source": [
    "%ls"
   ]
  },
  {
   "cell_type": "code",
   "execution_count": 3,
   "metadata": {},
   "outputs": [
    {
     "data": {
      "text/plain": [
       "(18, 550)"
      ]
     },
     "execution_count": 3,
     "metadata": {},
     "output_type": "execute_result"
    }
   ],
   "source": [
    "N_bins_test = np.loadtxt('N_bins_test')\n",
    "N_bins_test.shape"
   ]
  },
  {
   "cell_type": "code",
   "execution_count": 4,
   "metadata": {},
   "outputs": [
    {
     "data": {
      "text/plain": [
       "(18, 550)"
      ]
     },
     "execution_count": 4,
     "metadata": {},
     "output_type": "execute_result"
    }
   ],
   "source": [
    "Bk_test = np.loadtxt('Bk_test')\n",
    "Bk_test.shape"
   ]
  },
  {
   "cell_type": "code",
   "execution_count": 6,
   "metadata": {},
   "outputs": [
    {
     "data": {
      "text/plain": [
       "(18, 3)"
      ]
     },
     "execution_count": 6,
     "metadata": {},
     "output_type": "execute_result"
    }
   ],
   "source": [
    "params_test = np.loadtxt('params_test')\n",
    "params_test.shape"
   ]
  },
  {
   "cell_type": "code",
   "execution_count": 7,
   "metadata": {},
   "outputs": [],
   "source": [
    "def cov(Bk,Nbins):\n",
    "    a = np.eye(550,550)\n",
    "    b = Bk/np.sqrt(Nbins)\n",
    "    b = np.reshape(b,(550,1))\n",
    "    b = b*a\n",
    "    cov_inv = np.linalg.inv(b)\n",
    "    return cov_inv"
   ]
  },
  {
   "cell_type": "code",
   "execution_count": 8,
   "metadata": {},
   "outputs": [],
   "source": [
    "def Bk_model(params):\n",
    "    \n",
    "    model = ks.models.load_model('98bk02.h5')\n",
    "\n",
    "    Bk_model = model.predict([[params]])\n",
    "    Bk_model = Bk_model*100.\n",
    "    \n",
    "    return Bk_model[0]"
   ]
  },
  {
   "cell_type": "code",
   "execution_count": 9,
   "metadata": {},
   "outputs": [],
   "source": [
    "def lL(params,Bk,N_bins):\n",
    "    if params[0]<=0 or params[0] > 200 or params[1]<=0 or params[1] > 150 or params[2]<=0 or params[2] > 1500 :\n",
    "        l=-np.inf\n",
    "    else:\n",
    "\n",
    "        model=Bk_model(params)\n",
    "        DMU=Bk-model\n",
    "        DMU = np.reshape(DMU, (1,550))\n",
    "        cov_inv = cov(Bk,N_bins)\n",
    "        \n",
    "        l=-0.5*np.dot(np.dot(DMU,cov_inv),DMU.T)\n",
    "        l = l[0][0]\n",
    "   \n",
    "    return l"
   ]
  },
  {
   "cell_type": "code",
   "execution_count": 10,
   "metadata": {},
   "outputs": [],
   "source": [
    "ndim=3            #===== no. of parameters =======#\n",
    "\n",
    "nwalkers=6      #========= no. of random walkers ========#\n",
    "\n",
    "Nion = np.random.randint(20,200,6).T\n",
    "Rmfp = np.random.randint(20,120,6).T\n",
    "NoH = np.random.randint(50,1100,6).T\n",
    "p = np.zeros(shape=(6,3))\n",
    "p[:,0] = Nion\n",
    "p[:,1] = Rmfp\n",
    "p[:,2] = NoH\n"
   ]
  },
  {
   "cell_type": "code",
   "execution_count": 11,
   "metadata": {},
   "outputs": [
    {
     "data": {
      "text/plain": [
       "-919132.9334914201"
      ]
     },
     "execution_count": 11,
     "metadata": {},
     "output_type": "execute_result"
    }
   ],
   "source": [
    "lL(p[0],Bk_test[0],N_bins_test[0])"
   ]
  },
  {
   "cell_type": "code",
   "execution_count": 12,
   "metadata": {},
   "outputs": [],
   "source": [
    "import emcee\n",
    "import os\n",
    "\n",
    "os.environ[\"OMP_NUM_THREADS\"] = \"1\"\n",
    "\n",
    "nsteps = 3000\n",
    "\n",
    "sampler=emcee.EnsembleSampler(nwalkers,ndim,lL,args=[Bk_test[0],N_bins_test[0]])\n"
   ]
  },
  {
   "cell_type": "code",
   "execution_count": null,
   "metadata": {},
   "outputs": [],
   "source": [
    "#start = time.time()\n",
    "sampler.run_mcmc(p, nsteps, progress=True)\n",
    "#end = time.time()\n",
    "#multi_time = end - start\n",
    "#print(\"Multiprocessing took {0:.1f} seconds\".format(multi_time))\n",
    "\n"
   ]
  },
  {
   "cell_type": "code",
   "execution_count": null,
   "metadata": {},
   "outputs": [],
   "source": [
    "with open(\"script.py\", \"w\") as f:\n",
    "    f.write(\"\"\"\n",
    "import sys\n",
    "import time\n",
    "import emcee\n",
    "import numpy as np\n",
    "from schwimmbad import MPIPool\n",
    "import keras as ks\n",
    "\n",
    "\n",
    "def Bk_model(params):\n",
    "    \n",
    "    model = ks.models.load_model('98bk02.h5')\n",
    "\n",
    "    Bk_model = model.predict([[params]])\n",
    "    Bk_model = Bk_model*100.\n",
    "    \n",
    "    return Bk_model[0]\n",
    "\n",
    "def cov(Bk,Nbins):\n",
    "    a = np.eye(550,550)\n",
    "    b = Bk/np.sqrt(Nbins)\n",
    "    b = np.reshape(b,(550,1))\n",
    "    b = b*a\n",
    "    cov_inv = np.linalg.inv(b)\n",
    "    return cov_inv\n",
    "    \n",
    "    \n",
    "def lL(params,Bk,N_bins):\n",
    "    if params[0]<=0 or params[0] > 200 or params[1]<=0 or params[1] > 150 or params[2]<=0 or params[2] > 1500 :\n",
    "        l=-np.inf\n",
    "    else:\n",
    "\n",
    "        model=Bk_model(params)\n",
    "        DMU=Bk-model\n",
    "        DMU = np.reshape(DMU, (1,550))\n",
    "        cov_inv = cov(Bk,N_bins)\n",
    "        \n",
    "        l=-0.5*np.dot(np.dot(DMU,cov_inv),DMU.T)\n",
    "        l = l[0][0]\n",
    "   \n",
    "    return l\n",
    "    \n",
    "    \n",
    "with MPIPool() as pool:\n",
    "    if not pool.is_master():\n",
    "        pool.wait()\n",
    "        sys.exit(0)\n",
    "\n",
    "    np.random.seed(42)\n",
    "    ndim=3            #===== no. of parameters =======#\n",
    "\n",
    "    nwalkers=6      #========= no. of random walkers ========#\n",
    "\n",
    "    Nion = np.random.randint(20,200,6).T\n",
    "    Rmfp = np.random.randint(20,120,6).T\n",
    "    NoH = np.random.randint(50,1100,6).T\n",
    "    p = np.zeros(shape=(6,3))\n",
    "    p[:,0] = Nion\n",
    "    p[:,1] = Rmfp\n",
    "    p[:,2] = NoH\n",
    "    nsteps = 100\n",
    "    sampler = emcee.EnsembleSampler(nwalkers, ndim, log_prob, pool=pool)\n",
    "    start = time.time()\n",
    "    sampler.run_mcmc(p, nsteps)\n",
    "    end = time.time()\n",
    "    print(end - start)\n",
    "\"\"\")\n",
    "\n",
    "mpi_time = !mpiexec -n {ncpu} python script.py\n",
    "mpi_time = float(mpi_time[0])\n",
    "print(\"MPI took {0:.1f} seconds\".format(mpi_time))\n",
    "print(\"{0:.1f} times faster than serial\".format(serial_time / mpi_time))\n"
   ]
  },
  {
   "cell_type": "code",
   "execution_count": null,
   "metadata": {},
   "outputs": [],
   "source": [
    "%ls\n"
   ]
  },
  {
   "cell_type": "code",
   "execution_count": null,
   "metadata": {},
   "outputs": [],
   "source": []
  }
 ],
 "metadata": {
  "kernelspec": {
   "display_name": "Python 3",
   "language": "python",
   "name": "python3"
  },
  "language_info": {
   "codemirror_mode": {
    "name": "ipython",
    "version": 3
   },
   "file_extension": ".py",
   "mimetype": "text/x-python",
   "name": "python",
   "nbconvert_exporter": "python",
   "pygments_lexer": "ipython3",
   "version": "3.6.9"
  }
 },
 "nbformat": 4,
 "nbformat_minor": 2
}
