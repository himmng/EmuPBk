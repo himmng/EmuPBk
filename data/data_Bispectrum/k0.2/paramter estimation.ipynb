{
 "cells": [
  {
   "cell_type": "code",
   "execution_count": 44,
   "metadata": {},
   "outputs": [],
   "source": [
    "import numpy as np\n",
    "import matplotlib.pyplot as plt\n",
    "from ipywidgets import interact\n",
    "import keras as ks"
   ]
  },
  {
   "cell_type": "code",
   "execution_count": 45,
   "metadata": {},
   "outputs": [
    {
     "name": "stdout",
     "output_type": "stream",
     "text": [
      " 98bk02.h5         dTb02              \u001b[0m\u001b[01;35mindex.png\u001b[0m   'paramter estimation.ipynb'\r\n",
      " \u001b[01;34mbinary_data_02\u001b[0m/   EmuBk0.2.h5        \u001b[01;35mlvac02.png\u001b[0m   x_HI02\r\n",
      " bk_norm02         hyperparam.ipynb   nbins02\r\n",
      " bk_un02           index              params02\r\n"
     ]
    }
   ],
   "source": [
    "%ls"
   ]
  },
  {
   "cell_type": "code",
   "execution_count": 46,
   "metadata": {},
   "outputs": [
    {
     "data": {
      "text/plain": [
       "(1058, 550)"
      ]
     },
     "execution_count": 46,
     "metadata": {},
     "output_type": "execute_result"
    }
   ],
   "source": [
    "N_bins = np.loadtxt('nbins02')\n",
    "N_bins.shape"
   ]
  },
  {
   "cell_type": "code",
   "execution_count": 47,
   "metadata": {},
   "outputs": [
    {
     "data": {
      "text/plain": [
       "(1058, 550)"
      ]
     },
     "execution_count": 47,
     "metadata": {},
     "output_type": "execute_result"
    }
   ],
   "source": [
    "Bk = np.loadtxt('bk_norm02')\n",
    "Bk.shape"
   ]
  },
  {
   "cell_type": "code",
   "execution_count": 6,
   "metadata": {},
   "outputs": [
    {
     "data": {
      "text/plain": [
       "(1058, 3)"
      ]
     },
     "execution_count": 6,
     "metadata": {},
     "output_type": "execute_result"
    }
   ],
   "source": [
    "params = np.loadtxt('params02')\n",
    "params.shape"
   ]
  },
  {
   "cell_type": "code",
   "execution_count": null,
   "metadata": {},
   "outputs": [],
   "source": []
  },
  {
   "cell_type": "code",
   "execution_count": null,
   "metadata": {},
   "outputs": [],
   "source": []
  },
  {
   "cell_type": "code",
   "execution_count": 9,
   "metadata": {},
   "outputs": [],
   "source": []
  },
  {
   "cell_type": "code",
   "execution_count": 48,
   "metadata": {},
   "outputs": [
    {
     "data": {
      "text/plain": [
       "array([ 146,  833,  516,  204,  929,  223,  154,   42,   87,   10,  535,\n",
       "        343,  525,  239,   37,  532,  966, 1043])"
      ]
     },
     "execution_count": 48,
     "metadata": {},
     "output_type": "execute_result"
    }
   ],
   "source": [
    "ind = np.loadtxt('index')\n",
    "index = np.zeros(len(ind),dtype=int)\n",
    "for i in range(len(ind)):\n",
    "    index[i] = int(ind[i])\n",
    "index"
   ]
  },
  {
   "cell_type": "code",
   "execution_count": 49,
   "metadata": {},
   "outputs": [],
   "source": [
    "Bk_test = Bk[index]\n",
    "params_test = params[index]\n",
    "cov_inv_test = cov[index]\n",
    "N_bins_test = N_bins[index]"
   ]
  },
  {
   "cell_type": "code",
   "execution_count": 50,
   "metadata": {},
   "outputs": [],
   "source": [
    "cov_inv_test = np.zeros(shape=(len(Bk_test),550,550))\n",
    "for i in range(len(Bk_test)):\n",
    "    for j in range(550):\n",
    "        cov_inv_test[i][j][j] = Bk_test[i][j]/np.sqrt(N_bins_test[i][j])"
   ]
  },
  {
   "cell_type": "code",
   "execution_count": 51,
   "metadata": {},
   "outputs": [],
   "source": [
    "def Bk_model(params):\n",
    "    \n",
    "    model = ks.models.load_model('98bk02.h5')\n",
    "    model = model.predict([[params]])\n",
    "    model = model*100.\n",
    "    \n",
    "    return model"
   ]
  },
  {
   "cell_type": "code",
   "execution_count": 52,
   "metadata": {},
   "outputs": [],
   "source": [
    "def lL(params,Bk,cov_inv):\n",
    "    Nion,Rmfp,NoH = params\n",
    "    if Nion<=0. or Rmfp<=0. or NoH<=0. :\n",
    "        l=-np.inf\n",
    "    else:\n",
    "\n",
    "        model=Bk_model(params)\n",
    "        DMU=Bk-model\n",
    "        l=-0.5*np.dot(np.dot(DMU,cov_inv),DMU.T)\n",
    "   \n",
    "    return l[0][0]"
   ]
  },
  {
   "cell_type": "code",
   "execution_count": 53,
   "metadata": {},
   "outputs": [],
   "source": [
    "ndim=3            #===== no. of parameters =======#\n",
    "\n",
    "nwalkers=6      #========= no. of random walkers ========#\n",
    "\n",
    "Nion = np.random.randint(20,200,6).T\n",
    "Rmfp = np.random.randint(20,120,6).T\n",
    "NoH = np.random.randint(50,1100,6).T\n",
    "p = np.zeros(shape=(6,3))\n",
    "p[:,0] = Nion\n",
    "p[:,1] = Rmfp\n",
    "p[:,2] = NoH\n"
   ]
  },
  {
   "cell_type": "code",
   "execution_count": null,
   "metadata": {},
   "outputs": [],
   "source": []
  },
  {
   "cell_type": "code",
   "execution_count": 54,
   "metadata": {},
   "outputs": [
    {
     "data": {
      "text/plain": [
       "-61491495.9509039"
      ]
     },
     "execution_count": 54,
     "metadata": {},
     "output_type": "execute_result"
    }
   ],
   "source": [
    "lL(p[0],Bk_test[0],cov_inv_test[0])"
   ]
  },
  {
   "cell_type": "code",
   "execution_count": 43,
   "metadata": {},
   "outputs": [
    {
     "name": "stderr",
     "output_type": "stream",
     "text": [
      "  0%|          | 0/10 [00:00<?, ?it/s]Traceback (most recent call last):\n",
      "  File \"/home/ht/.local/lib/python3.6/site-packages/emcee/ensemble.py\", line 545, in __call__\n",
      "    return self.f(x, *self.args, **self.kwargs)\n",
      "  File \"<ipython-input-39-e9ee108e504d>\", line 11, in lL\n",
      "    return l[0][0]\n",
      "TypeError: 'float' object is not subscriptable\n",
      "  0%|          | 0/10 [00:06<?, ?it/s]"
     ]
    },
    {
     "name": "stdout",
     "output_type": "stream",
     "text": [
      "emcee: Exception while calling your likelihood function:\n",
      "  params: [  77.87159235   65.68972785 -210.28407651]\n",
      "  args: [array([ 1.97045401e+01,  2.06078593e+01,  2.64638321e+01,  2.77957439e+01,\n",
      "        2.35642960e+01,  2.93198530e+01,  2.54363947e+01,  2.66502327e+01,\n",
      "        2.17456753e+01,  2.99353589e+01,  3.70847240e+01,  3.80188733e+01,\n",
      "        3.18084400e+01,  3.67649859e+01,  1.80921127e+01,  1.73716388e+01,\n",
      "        3.26595865e+01,  2.95522955e+01,  3.47005171e+01,  2.62425364e+01,\n",
      "        2.60979628e+01,  1.61156194e+01,  1.86037628e+01,  2.05495787e+01,\n",
      "        2.78359201e+01,  3.16528349e+01,  3.21574207e+01,  2.96310056e+01,\n",
      "        5.43073668e+01,  4.70282972e+01,  6.71857717e+01,  8.65860506e+01,\n",
      "        6.45859476e+01,  6.92684487e+01,  7.63956874e+01,  8.23574578e+01,\n",
      "        6.38193021e+01,  3.48275999e+01,  5.37052577e+01,  4.84506968e+01,\n",
      "        2.92199672e+01,  4.35256119e+01,  3.55987974e+01,  1.81555042e+01,\n",
      "        5.37682661e+01,  5.39151993e+01,  6.12166546e+01,  1.79365882e+02,\n",
      "        1.57860915e+02,  1.45667968e+02,  5.84255360e+01,  4.30566475e+01,\n",
      "        4.62897709e+01,  4.07914325e+01,  2.91739075e+01,  4.07158128e+01,\n",
      "        3.68327361e+01,  3.41803041e+01,  3.41365889e+01,  4.01405743e+01,\n",
      "        3.51760868e+01,  3.85014839e+01,  3.46542000e+01,  1.65996098e+01,\n",
      "        2.36904283e+01,  2.54744308e+01,  3.41117862e+01,  2.85464829e+01,\n",
      "        1.53951253e+01,  1.92505272e+01,  2.19752198e+01,  2.20030748e+01,\n",
      "        5.15248211e+01,  5.78374513e+01,  6.17509599e+01,  3.47665826e+01,\n",
      "        3.83477137e+01,  5.91698833e+01,  5.89862411e+01,  6.25957372e+01,\n",
      "        6.83031418e+01,  6.00173066e+01,  4.60532103e+01,  5.28176410e+01,\n",
      "        2.77163656e+01,  3.79418985e+01,  2.30611823e+01,  3.84367547e+01,\n",
      "        9.54533187e+01,  8.45594108e+01,  7.41244360e+01,  5.41482324e+01,\n",
      "        8.05216973e+01,  8.12830323e+01,  5.04481231e+01,  1.48883356e+01,\n",
      "        1.97535244e+01,  8.86771155e+01,  1.11789004e+02,  1.26526706e+02,\n",
      "        4.57266443e+01,  4.66314213e+01,  3.10352925e+01,  3.99006626e+01,\n",
      "        4.49610396e+01,  3.98723054e+01,  2.47840473e+01,  1.32817011e+01,\n",
      "        9.01539053e+00,  9.96328087e+00,  2.42302952e+01,  3.46338446e+01,\n",
      "        2.59088067e+01,  2.58890921e+01,  1.16303171e+01,  3.32333591e+01,\n",
      "        5.17430862e+01,  5.09932333e+01,  4.06448700e+01,  4.45924656e+01,\n",
      "        4.18740024e+01,  5.07329106e+01,  5.00114348e+01,  5.05275499e+01,\n",
      "        6.37709518e+01,  6.81438657e+01,  8.33943264e+01,  6.90338120e+01,\n",
      "        3.88627621e+01,  2.06972395e+01,  4.04565156e+01,  3.87671063e+01,\n",
      "        4.25235447e+01,  4.66744649e+01,  4.06632105e+01,  6.00793874e+01,\n",
      "        9.34555083e+01,  9.78340479e+01,  1.08179001e+02,  7.02569155e+01,\n",
      "        6.78829953e+01,  7.19970303e+01,  3.18645216e+01,  8.40661671e+01,\n",
      "        5.02055940e+01,  1.02230759e+02,  9.69701887e+01,  6.27233383e+01,\n",
      "        2.58582457e+02,  3.15628530e+02,  2.76602892e+01,  4.28103717e+01,\n",
      "        4.85170140e+01,  3.12321808e+01,  4.27061097e+01,  4.92571211e+01,\n",
      "        3.85069371e+01,  3.65991297e+01,  3.17404961e+01,  2.00484157e+01,\n",
      "        2.40164801e+01,  3.37517932e+01,  5.27890156e+01,  3.95625899e+01,\n",
      "        3.03927172e+01,  2.83957440e+01,  2.47639613e+01,  4.61648082e+01,\n",
      "        5.00000702e+01,  4.93509202e+01,  7.59404287e+01,  9.24790467e+01,\n",
      "        6.97875650e+01,  6.00626072e+01,  5.03505303e+01,  6.82748418e+01,\n",
      "        4.61565480e+01,  7.31962086e-01,  3.81643890e+00,  4.25006619e+01,\n",
      "        7.20690244e+01,  8.17916845e+01,  8.33677676e+01,  2.33323652e+01,\n",
      "        5.21862619e+01,  7.74019451e+01,  8.80463923e+01,  7.03475492e+01,\n",
      "        1.63205236e+02,  2.15551511e+02,  1.76488957e+02,  1.15098877e+02,\n",
      "        1.36818377e+02,  7.76953877e+01,  1.56978125e+02,  2.83133889e+01,\n",
      "        6.94934262e+01,  1.18929012e+02,  4.82201597e+01,  2.29878866e+01,\n",
      "        3.95268386e+01,  5.71746730e+01,  5.23013565e+01,  6.19358172e+01,\n",
      "        6.48213068e+01,  7.04270596e+01,  4.50628009e+01,  6.49300876e+01,\n",
      "        8.39908707e+01,  6.25701610e+01,  4.86997081e+01,  4.41729012e+01,\n",
      "        9.89684686e+00,  7.58231326e+00, -1.96054302e+01,  1.18172469e+01,\n",
      "        1.45305214e+01,  1.18930061e+01, -3.34263862e+00,  3.69613115e+01,\n",
      "        2.45612730e+01,  3.37049473e+01,  2.24189633e+01,  3.91898474e+01,\n",
      "        4.30369245e+00,  1.44885586e+01,  3.29538538e+01,  4.85702068e+01,\n",
      "        5.16011197e+01,  2.53534834e+01,  2.38345446e+00,  3.05481538e+01,\n",
      "        4.17518091e+01,  7.31856410e+01,  6.82100421e+01,  6.61304316e+01,\n",
      "        1.11208838e+00,  1.99129099e+01,  1.78322637e+01,  4.38917867e+01,\n",
      "        4.78620565e+01,  5.74590051e+01,  6.87124181e+01,  1.77708057e+02,\n",
      "        9.13848818e+01,  5.96466217e+01,  1.08054116e+02,  2.40870805e+02,\n",
      "        1.20061192e+02,  1.20014549e+02,  3.18738026e+01,  3.30047646e+01,\n",
      "        2.75115111e+01,  5.87166273e+01,  8.62576589e+01,  8.38123106e+01,\n",
      "        6.64381419e+01,  6.97225813e+01,  6.00763350e+01,  5.09111793e+01,\n",
      "        2.06740977e+01,  2.42991229e+01, -9.55082358e+00, -4.25947700e+01,\n",
      "       -3.46643554e+01, -1.23193681e+00, -1.71616709e+01, -3.78948001e+01,\n",
      "       -1.30893541e+01, -1.17155668e+01, -1.81607722e+01, -1.05771371e+00,\n",
      "        1.20708058e+01,  4.43465592e+01,  3.72050428e+01,  8.17337042e-01,\n",
      "       -5.69251758e+00, -4.45316853e+00,  2.52577549e+01,  1.30221841e+01,\n",
      "       -3.31560820e+01,  1.26522236e+01,  3.19013882e+01,  1.92344627e+01,\n",
      "        7.66343115e+01,  7.98922155e+01,  7.38162120e+01,  6.71215400e+01,\n",
      "        6.75161787e+01, -3.94205564e+00,  6.21565750e+01,  1.36387330e+02,\n",
      "        9.40667241e+01,  8.66347759e+01,  1.76210197e+02,  1.78453607e+02,\n",
      "        1.49826594e+02,  9.98792105e+01,  4.23986661e+01, -2.68056030e+01,\n",
      "        6.27056973e+01,  7.62325558e+01,  8.07040491e+01,  6.46310016e+01,\n",
      "        5.73513662e+01,  7.78392516e+01,  3.75147405e+01,  4.41440366e+01,\n",
      "       -6.57187122e+00, -2.68033405e+01, -2.16322987e+01,  3.09199381e+01,\n",
      "        1.63483355e+01, -2.98253830e+01, -1.46330019e+01, -9.93660516e+00,\n",
      "       -1.03660463e+01,  1.51705143e+01,  1.06578541e+01,  4.26691433e+01,\n",
      "        2.59759663e+00,  2.29834847e+01,  2.63892404e+01,  2.96891080e+01,\n",
      "       -2.93440422e+01, -5.69676765e+01, -6.37833772e+01, -4.41975058e+01,\n",
      "        5.79575589e+01,  9.75669445e+01,  6.35979520e+01,  4.95281764e+01,\n",
      "        8.68809162e+01,  1.07384980e+02,  1.31485855e+02,  1.35332191e+02,\n",
      "        1.29124406e+02,  1.59321348e+02,  1.53794820e+02,  7.97248582e+01,\n",
      "        1.36949720e+02,  1.07905358e+02,  5.08874458e+01, -3.78950787e+01,\n",
      "        5.03232992e+01, -2.66235679e+00, -1.14246881e+02,  8.21107694e+01,\n",
      "        3.91970792e+02,  6.59242223e+02,  4.49771707e+01,  8.18763324e+01,\n",
      "        6.25269743e+01,  2.29328405e+01,  2.00849424e+01,  5.91422503e+00,\n",
      "       -1.07663469e+01,  4.28621676e+01,  8.64576690e+01,  4.97862542e+01,\n",
      "        2.92947361e+01,  4.81971214e+00,  2.91767578e+01,  1.80105629e+01,\n",
      "        3.55821787e+01,  3.92872063e+01,  4.59637579e+01,  4.61998277e+01,\n",
      "        8.05265816e+01,  7.05081944e+01,  3.23911741e+01, -2.56801703e+01,\n",
      "        7.74465204e+00, -2.49940845e+01,  6.87680891e+00,  6.40283629e+01,\n",
      "        4.99076720e+01,  8.35980368e+01,  8.46761757e+01,  1.23880875e+02,\n",
      "        1.34548249e+02,  7.89189771e+01,  5.37989878e+01,  1.62063799e+02,\n",
      "        3.68477240e+01,  4.16523913e+01,  6.96541505e+01,  1.20310811e+02,\n",
      "        1.00337902e+01, -3.01139173e+01,  3.64529533e+01,  4.06476296e+01,\n",
      "        4.96405471e+01,  1.59202171e+02,  1.12688721e+02, -2.56628593e+01,\n",
      "        5.62685485e+01, -4.70122005e-01, -1.47761463e+02,  2.02026518e+02,\n",
      "        2.35698813e+01,  3.46044170e+00, -2.60105244e+01, -2.86956233e+01,\n",
      "        4.94585390e+01,  2.36024944e+01,  4.22711956e+01,  7.38581654e+01,\n",
      "        5.20426565e+01,  2.27674398e+01,  2.82009990e+01,  6.28426666e+01,\n",
      "        7.67801255e+01,  1.44472658e+02,  1.11254157e+02,  1.31002705e+02,\n",
      "        1.18091493e+02,  7.75445938e+01,  6.84729463e+01,  5.61167967e+01,\n",
      "        3.31009525e+01,  1.22642111e+01, -3.60448731e+00,  2.75897502e+01,\n",
      "        2.24788110e+01,  4.85352727e+01,  3.43852318e+01,  4.12122176e+01,\n",
      "        1.32438859e+02,  1.28144627e+02,  6.05004846e+01,  6.14291948e+01,\n",
      "        7.14502866e+01,  4.75031446e+01,  8.14096470e+00, -3.83066228e+01,\n",
      "       -1.04650658e+02, -4.52637923e+01,  6.95807685e+01, -2.37016613e+01,\n",
      "        1.14454514e+01, -4.92997410e+01, -1.24256756e+02,  7.46339584e+01,\n",
      "       -9.79822686e+01,  1.05502162e+02,  1.01533708e+02,  1.02490259e+02,\n",
      "        1.31283252e+02,  1.78418797e+02, -7.57695617e+01, -3.45807297e+01,\n",
      "       -3.00628744e+01,  3.69268629e+01,  3.61984896e+01, -1.16841922e+01,\n",
      "       -2.67016741e+00, -2.44047657e+01,  4.08663314e+01,  7.53716528e+01,\n",
      "        7.02860224e+01,  1.35275248e+02,  1.24604802e+02,  6.51856304e+01,\n",
      "       -5.29384888e+00,  5.39650172e+01,  2.58574021e+01,  1.70255329e+01,\n",
      "        4.86332626e+00,  1.76080260e+01,  1.39317098e+01,  4.50575559e+01,\n",
      "       -2.58343409e+00,  2.55921295e+01,  7.87626330e+01,  9.34340037e+01,\n",
      "        3.09393372e+01, -2.59150254e+01, -2.70191160e+01, -8.24342796e+01,\n",
      "       -3.07398294e+01,  6.97759496e+01,  1.04972770e+02,  9.45251508e+01,\n",
      "       -3.61056520e+01, -9.50586404e+01, -1.00407073e+02, -9.43952020e+01,\n",
      "       -4.09995605e+01, -9.29630380e+01,  1.53759715e+02,  1.52115534e+02,\n",
      "        1.96795733e+02,  2.19648464e+02,  4.19774767e+02,  1.70995618e+02,\n",
      "        1.23130172e+02,  3.80764237e+02,  2.15038601e+02,  1.14488872e+03,\n",
      "       -2.20662771e+01, -1.37508872e+01, -7.02342894e+00,  9.92553322e+00,\n",
      "       -3.22375310e+01, -2.88374858e+01, -1.01072510e+01,  1.08055212e+01,\n",
      "        1.05292984e+01,  3.37894680e+01, -4.55664561e+01, -2.63731340e+01,\n",
      "       -1.62388750e+01, -3.02187498e+01,  1.20462111e+01,  5.70857176e+00,\n",
      "       -1.41369377e+00, -1.29687786e+01,  4.80449826e+01,  3.75320808e+01,\n",
      "        4.99290462e+01,  4.18507869e+01,  4.03788045e+00,  1.01965149e+02,\n",
      "        8.27299939e+01,  2.97278662e+01, -1.62758584e+01, -5.26800732e+01,\n",
      "        3.76334474e+01,  6.19480649e+01,  9.26120856e+00,  5.87784109e+01,\n",
      "        6.59164131e+01, -3.24551074e+01, -4.20331223e+01, -6.04503606e+01,\n",
      "        6.40277398e+01,  1.71404777e+02,  1.51357607e+02,  8.64310505e+01,\n",
      "        1.98967183e+02,  1.71149171e+02,  2.56688228e+02,  2.52678969e+02,\n",
      "        2.73345034e+02,  4.93274845e+02,  6.10845127e+02,  6.73770557e+02,\n",
      "        5.27142770e+02,  3.94046433e+02]), array([[4.56296198, 0.        , 0.        , ..., 0.        , 0.        ,\n",
      "        0.        ],\n",
      "       [0.        , 4.35106072, 0.        , ..., 0.        , 0.        ,\n",
      "        0.        ],\n",
      "       [0.        , 0.        , 3.37134968, ..., 0.        , 0.        ,\n",
      "        0.        ],\n",
      "       ...,\n",
      "       [0.        , 0.        , 0.        , ..., 0.09902972, 0.        ,\n",
      "        0.        ],\n",
      "       [0.        , 0.        , 0.        , ..., 0.        , 0.11834725,\n",
      "        0.        ],\n",
      "       [0.        , 0.        , 0.        , ..., 0.        , 0.        ,\n",
      "        0.12202435]])]\n",
      "  kwargs: {}\n",
      "  exception:\n"
     ]
    },
    {
     "name": "stderr",
     "output_type": "stream",
     "text": [
      "\n"
     ]
    },
    {
     "ename": "TypeError",
     "evalue": "'float' object is not subscriptable",
     "output_type": "error",
     "traceback": [
      "\u001b[0;31m---------------------------------------------------------------------------\u001b[0m",
      "\u001b[0;31mTypeError\u001b[0m                                 Traceback (most recent call last)",
      "\u001b[0;32m<ipython-input-43-3c42536f91d0>\u001b[0m in \u001b[0;36m<module>\u001b[0;34m\u001b[0m\n\u001b[1;32m      6\u001b[0m     \u001b[0msampler\u001b[0m\u001b[0;34m=\u001b[0m\u001b[0memcee\u001b[0m\u001b[0;34m.\u001b[0m\u001b[0mEnsembleSampler\u001b[0m\u001b[0;34m(\u001b[0m\u001b[0mnwalkers\u001b[0m\u001b[0;34m,\u001b[0m\u001b[0mndim\u001b[0m\u001b[0;34m,\u001b[0m\u001b[0mlL\u001b[0m\u001b[0;34m,\u001b[0m\u001b[0margs\u001b[0m\u001b[0;34m=\u001b[0m\u001b[0;34m[\u001b[0m\u001b[0mBk_test\u001b[0m\u001b[0;34m[\u001b[0m\u001b[0;36m0\u001b[0m\u001b[0;34m]\u001b[0m\u001b[0;34m,\u001b[0m\u001b[0mcov_inv_test\u001b[0m\u001b[0;34m[\u001b[0m\u001b[0;36m0\u001b[0m\u001b[0;34m]\u001b[0m\u001b[0;34m]\u001b[0m\u001b[0;34m)\u001b[0m\u001b[0;34m\u001b[0m\u001b[0;34m\u001b[0m\u001b[0m\n\u001b[1;32m      7\u001b[0m     \u001b[0mstart\u001b[0m \u001b[0;34m=\u001b[0m \u001b[0mtime\u001b[0m\u001b[0;34m.\u001b[0m\u001b[0mtime\u001b[0m\u001b[0;34m(\u001b[0m\u001b[0;34m)\u001b[0m\u001b[0;34m\u001b[0m\u001b[0;34m\u001b[0m\u001b[0m\n\u001b[0;32m----> 8\u001b[0;31m     \u001b[0msampler\u001b[0m\u001b[0;34m.\u001b[0m\u001b[0mrun_mcmc\u001b[0m\u001b[0;34m(\u001b[0m\u001b[0mp\u001b[0m\u001b[0;34m,\u001b[0m \u001b[0mnsteps\u001b[0m\u001b[0;34m,\u001b[0m \u001b[0mprogress\u001b[0m\u001b[0;34m=\u001b[0m\u001b[0;32mTrue\u001b[0m\u001b[0;34m)\u001b[0m\u001b[0;34m\u001b[0m\u001b[0;34m\u001b[0m\u001b[0m\n\u001b[0m\u001b[1;32m      9\u001b[0m     \u001b[0mend\u001b[0m \u001b[0;34m=\u001b[0m \u001b[0mtime\u001b[0m\u001b[0;34m.\u001b[0m\u001b[0mtime\u001b[0m\u001b[0;34m(\u001b[0m\u001b[0;34m)\u001b[0m\u001b[0;34m\u001b[0m\u001b[0;34m\u001b[0m\u001b[0m\n\u001b[1;32m     10\u001b[0m     \u001b[0mmulti_time\u001b[0m \u001b[0;34m=\u001b[0m \u001b[0mend\u001b[0m \u001b[0;34m-\u001b[0m \u001b[0mstart\u001b[0m\u001b[0;34m\u001b[0m\u001b[0;34m\u001b[0m\u001b[0m\n",
      "\u001b[0;32m~/.local/lib/python3.6/site-packages/emcee/ensemble.py\u001b[0m in \u001b[0;36mrun_mcmc\u001b[0;34m(self, initial_state, nsteps, **kwargs)\u001b[0m\n\u001b[1;32m    382\u001b[0m \u001b[0;34m\u001b[0m\u001b[0m\n\u001b[1;32m    383\u001b[0m         \u001b[0mresults\u001b[0m \u001b[0;34m=\u001b[0m \u001b[0;32mNone\u001b[0m\u001b[0;34m\u001b[0m\u001b[0;34m\u001b[0m\u001b[0m\n\u001b[0;32m--> 384\u001b[0;31m         \u001b[0;32mfor\u001b[0m \u001b[0mresults\u001b[0m \u001b[0;32min\u001b[0m \u001b[0mself\u001b[0m\u001b[0;34m.\u001b[0m\u001b[0msample\u001b[0m\u001b[0;34m(\u001b[0m\u001b[0minitial_state\u001b[0m\u001b[0;34m,\u001b[0m \u001b[0miterations\u001b[0m\u001b[0;34m=\u001b[0m\u001b[0mnsteps\u001b[0m\u001b[0;34m,\u001b[0m \u001b[0;34m**\u001b[0m\u001b[0mkwargs\u001b[0m\u001b[0;34m)\u001b[0m\u001b[0;34m:\u001b[0m\u001b[0;34m\u001b[0m\u001b[0;34m\u001b[0m\u001b[0m\n\u001b[0m\u001b[1;32m    385\u001b[0m             \u001b[0;32mpass\u001b[0m\u001b[0;34m\u001b[0m\u001b[0;34m\u001b[0m\u001b[0m\n\u001b[1;32m    386\u001b[0m \u001b[0;34m\u001b[0m\u001b[0m\n",
      "\u001b[0;32m~/.local/lib/python3.6/site-packages/emcee/ensemble.py\u001b[0m in \u001b[0;36msample\u001b[0;34m(self, initial_state, log_prob0, rstate0, blobs0, iterations, tune, skip_initial_state_check, thin_by, thin, store, progress)\u001b[0m\n\u001b[1;32m    341\u001b[0m \u001b[0;34m\u001b[0m\u001b[0m\n\u001b[1;32m    342\u001b[0m                     \u001b[0;31m# Propose\u001b[0m\u001b[0;34m\u001b[0m\u001b[0;34m\u001b[0m\u001b[0;34m\u001b[0m\u001b[0m\n\u001b[0;32m--> 343\u001b[0;31m                     \u001b[0mstate\u001b[0m\u001b[0;34m,\u001b[0m \u001b[0maccepted\u001b[0m \u001b[0;34m=\u001b[0m \u001b[0mmove\u001b[0m\u001b[0;34m.\u001b[0m\u001b[0mpropose\u001b[0m\u001b[0;34m(\u001b[0m\u001b[0mmodel\u001b[0m\u001b[0;34m,\u001b[0m \u001b[0mstate\u001b[0m\u001b[0;34m)\u001b[0m\u001b[0;34m\u001b[0m\u001b[0;34m\u001b[0m\u001b[0m\n\u001b[0m\u001b[1;32m    344\u001b[0m                     \u001b[0mstate\u001b[0m\u001b[0;34m.\u001b[0m\u001b[0mrandom_state\u001b[0m \u001b[0;34m=\u001b[0m \u001b[0mself\u001b[0m\u001b[0;34m.\u001b[0m\u001b[0mrandom_state\u001b[0m\u001b[0;34m\u001b[0m\u001b[0;34m\u001b[0m\u001b[0m\n\u001b[1;32m    345\u001b[0m \u001b[0;34m\u001b[0m\u001b[0m\n",
      "\u001b[0;32m~/.local/lib/python3.6/site-packages/emcee/moves/red_blue.py\u001b[0m in \u001b[0;36mpropose\u001b[0;34m(self, model, state)\u001b[0m\n\u001b[1;32m     91\u001b[0m \u001b[0;34m\u001b[0m\u001b[0m\n\u001b[1;32m     92\u001b[0m             \u001b[0;31m# Compute the lnprobs of the proposed position.\u001b[0m\u001b[0;34m\u001b[0m\u001b[0;34m\u001b[0m\u001b[0;34m\u001b[0m\u001b[0m\n\u001b[0;32m---> 93\u001b[0;31m             \u001b[0mnew_log_probs\u001b[0m\u001b[0;34m,\u001b[0m \u001b[0mnew_blobs\u001b[0m \u001b[0;34m=\u001b[0m \u001b[0mmodel\u001b[0m\u001b[0;34m.\u001b[0m\u001b[0mcompute_log_prob_fn\u001b[0m\u001b[0;34m(\u001b[0m\u001b[0mq\u001b[0m\u001b[0;34m)\u001b[0m\u001b[0;34m\u001b[0m\u001b[0;34m\u001b[0m\u001b[0m\n\u001b[0m\u001b[1;32m     94\u001b[0m \u001b[0;34m\u001b[0m\u001b[0m\n\u001b[1;32m     95\u001b[0m             \u001b[0;31m# Loop over the walkers and update them accordingly.\u001b[0m\u001b[0;34m\u001b[0m\u001b[0;34m\u001b[0m\u001b[0;34m\u001b[0m\u001b[0m\n",
      "\u001b[0;32m~/.local/lib/python3.6/site-packages/emcee/ensemble.py\u001b[0m in \u001b[0;36mcompute_log_prob\u001b[0;34m(self, coords)\u001b[0m\n\u001b[1;32m    425\u001b[0m                 \u001b[0mmap_func\u001b[0m \u001b[0;34m=\u001b[0m \u001b[0mmap\u001b[0m\u001b[0;34m\u001b[0m\u001b[0;34m\u001b[0m\u001b[0m\n\u001b[1;32m    426\u001b[0m             results = list(\n\u001b[0;32m--> 427\u001b[0;31m                 \u001b[0mmap_func\u001b[0m\u001b[0;34m(\u001b[0m\u001b[0mself\u001b[0m\u001b[0;34m.\u001b[0m\u001b[0mlog_prob_fn\u001b[0m\u001b[0;34m,\u001b[0m \u001b[0;34m(\u001b[0m\u001b[0mp\u001b[0m\u001b[0;34m[\u001b[0m\u001b[0mi\u001b[0m\u001b[0;34m]\u001b[0m \u001b[0;32mfor\u001b[0m \u001b[0mi\u001b[0m \u001b[0;32min\u001b[0m \u001b[0mrange\u001b[0m\u001b[0;34m(\u001b[0m\u001b[0mlen\u001b[0m\u001b[0;34m(\u001b[0m\u001b[0mp\u001b[0m\u001b[0;34m)\u001b[0m\u001b[0;34m)\u001b[0m\u001b[0;34m)\u001b[0m\u001b[0;34m)\u001b[0m\u001b[0;34m\u001b[0m\u001b[0;34m\u001b[0m\u001b[0m\n\u001b[0m\u001b[1;32m    428\u001b[0m             )\n\u001b[1;32m    429\u001b[0m \u001b[0;34m\u001b[0m\u001b[0m\n",
      "\u001b[0;32m~/.local/lib/python3.6/site-packages/emcee/ensemble.py\u001b[0m in \u001b[0;36m__call__\u001b[0;34m(self, x)\u001b[0m\n\u001b[1;32m    543\u001b[0m     \u001b[0;32mdef\u001b[0m \u001b[0m__call__\u001b[0m\u001b[0;34m(\u001b[0m\u001b[0mself\u001b[0m\u001b[0;34m,\u001b[0m \u001b[0mx\u001b[0m\u001b[0;34m)\u001b[0m\u001b[0;34m:\u001b[0m\u001b[0;34m\u001b[0m\u001b[0;34m\u001b[0m\u001b[0m\n\u001b[1;32m    544\u001b[0m         \u001b[0;32mtry\u001b[0m\u001b[0;34m:\u001b[0m\u001b[0;34m\u001b[0m\u001b[0;34m\u001b[0m\u001b[0m\n\u001b[0;32m--> 545\u001b[0;31m             \u001b[0;32mreturn\u001b[0m \u001b[0mself\u001b[0m\u001b[0;34m.\u001b[0m\u001b[0mf\u001b[0m\u001b[0;34m(\u001b[0m\u001b[0mx\u001b[0m\u001b[0;34m,\u001b[0m \u001b[0;34m*\u001b[0m\u001b[0mself\u001b[0m\u001b[0;34m.\u001b[0m\u001b[0margs\u001b[0m\u001b[0;34m,\u001b[0m \u001b[0;34m**\u001b[0m\u001b[0mself\u001b[0m\u001b[0;34m.\u001b[0m\u001b[0mkwargs\u001b[0m\u001b[0;34m)\u001b[0m\u001b[0;34m\u001b[0m\u001b[0;34m\u001b[0m\u001b[0m\n\u001b[0m\u001b[1;32m    546\u001b[0m         \u001b[0;32mexcept\u001b[0m\u001b[0;34m:\u001b[0m  \u001b[0;31m# pragma: no cover\u001b[0m\u001b[0;34m\u001b[0m\u001b[0;34m\u001b[0m\u001b[0m\n\u001b[1;32m    547\u001b[0m             \u001b[0;32mimport\u001b[0m \u001b[0mtraceback\u001b[0m\u001b[0;34m\u001b[0m\u001b[0;34m\u001b[0m\u001b[0m\n",
      "\u001b[0;32m<ipython-input-39-e9ee108e504d>\u001b[0m in \u001b[0;36mlL\u001b[0;34m(params, Bk, cov_inv)\u001b[0m\n\u001b[1;32m      9\u001b[0m         \u001b[0ml\u001b[0m\u001b[0;34m=\u001b[0m\u001b[0;34m-\u001b[0m\u001b[0;36m0.5\u001b[0m\u001b[0;34m*\u001b[0m\u001b[0mnp\u001b[0m\u001b[0;34m.\u001b[0m\u001b[0mdot\u001b[0m\u001b[0;34m(\u001b[0m\u001b[0mnp\u001b[0m\u001b[0;34m.\u001b[0m\u001b[0mdot\u001b[0m\u001b[0;34m(\u001b[0m\u001b[0mDMU\u001b[0m\u001b[0;34m,\u001b[0m\u001b[0mcov_inv\u001b[0m\u001b[0;34m)\u001b[0m\u001b[0;34m,\u001b[0m\u001b[0mDMU\u001b[0m\u001b[0;34m.\u001b[0m\u001b[0mT\u001b[0m\u001b[0;34m)\u001b[0m\u001b[0;34m\u001b[0m\u001b[0;34m\u001b[0m\u001b[0m\n\u001b[1;32m     10\u001b[0m \u001b[0;34m\u001b[0m\u001b[0m\n\u001b[0;32m---> 11\u001b[0;31m     \u001b[0;32mreturn\u001b[0m \u001b[0ml\u001b[0m\u001b[0;34m[\u001b[0m\u001b[0;36m0\u001b[0m\u001b[0;34m]\u001b[0m\u001b[0;34m[\u001b[0m\u001b[0;36m0\u001b[0m\u001b[0;34m]\u001b[0m\u001b[0;34m\u001b[0m\u001b[0;34m\u001b[0m\u001b[0m\n\u001b[0m",
      "\u001b[0;31mTypeError\u001b[0m: 'float' object is not subscriptable"
     ]
    }
   ],
   "source": [
    "from multiprocessing import Pool\n",
    "import emcee\n",
    "import time\n",
    "nsteps = 10\n",
    "with Pool() as pool:\n",
    "    sampler=emcee.EnsembleSampler(nwalkers,ndim,lL,args=[Bk_test[0],cov_inv_test[0]])\n",
    "    start = time.time()\n",
    "    sampler.run_mcmc(p, nsteps, progress=True)\n",
    "    end = time.time()\n",
    "    multi_time = end - start\n",
    "    print(\"Multiprocessing took {0:.1f} seconds\".format(multi_time))\n",
    "\n"
   ]
  }
 ],
 "metadata": {
  "kernelspec": {
   "display_name": "Python 3",
   "language": "python",
   "name": "python3"
  },
  "language_info": {
   "codemirror_mode": {
    "name": "ipython",
    "version": 3
   },
   "file_extension": ".py",
   "mimetype": "text/x-python",
   "name": "python",
   "nbconvert_exporter": "python",
   "pygments_lexer": "ipython3",
   "version": "3.6.9"
  }
 },
 "nbformat": 4,
 "nbformat_minor": 2
}
