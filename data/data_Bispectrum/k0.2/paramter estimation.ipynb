{
 "cells": [
  {
   "cell_type": "code",
   "execution_count": 15,
   "metadata": {},
   "outputs": [],
   "source": [
    "import numpy as np"
   ]
  },
  {
   "cell_type": "code",
   "execution_count": 16,
   "metadata": {},
   "outputs": [
    {
     "name": "stdout",
     "output_type": "stream",
     "text": [
      " 98bk02.h5         dTb02              \u001b[0m\u001b[01;35mlvac02.png\u001b[0m                   sc.py\r\n",
      " \u001b[01;34mbinary_data_02\u001b[0m/   EmuBk0.2.h5        nbins02                      script.py\r\n",
      " bk_norm02         hyperparam.ipynb   N_bins_test                  x_HI02\r\n",
      " Bk_test           index              params02\r\n",
      " bk_un02           \u001b[01;35mindex.png\u001b[0m          params_test\r\n",
      " cov_inv_test      __init__.py       'paramter estimation.ipynb'\r\n"
     ]
    }
   ],
   "source": [
    "%ls"
   ]
  },
  {
   "cell_type": "code",
   "execution_count": 17,
   "metadata": {},
   "outputs": [],
   "source": [
    "import tensorflow as tf\n",
    "tf.config.optimizer.set_jit(True)\n",
    "\n",
    "\n",
    "BANN = '/home/ht/EmuPBk/data/data_Bispectrum/bkkkk0.3.h5'\n",
    "\n",
    "def Bk_th(params):\n",
    "    \n",
    "    \n",
    "    '''21-cm Bispectrum Emulator based on ANN, given the parameters (Nion, Rmfp, NoH) it\n",
    "    will give Bispectrum array (50*11) cosalpha*k_2/k_1'''\n",
    "    \n",
    "    \n",
    "    Denorm = 10000\n",
    "    model = tf.keras.models.load_model(BANN)\n",
    "    Pk_pdct = model.predict([[params]])\n",
    "    Pk_pdct = Pk_pdct*Denorm\n",
    "    Pk_pdct = np.around(Pk_pdct,1)\n",
    "    \n",
    "    return Pk_pdct"
   ]
  },
  {
   "cell_type": "code",
   "execution_count": 13,
   "metadata": {},
   "outputs": [
    {
     "data": {
      "text/plain": [
       "<function __main__.Bk_th(params)>"
      ]
     },
     "execution_count": 13,
     "metadata": {},
     "output_type": "execute_result"
    }
   ],
   "source": [
    "Bk_th()"
   ]
  },
  {
   "cell_type": "code",
   "execution_count": 14,
   "metadata": {},
   "outputs": [],
   "source": [
    "path = '/home/ht/EmuPBk/data/data_Bispectrum/k0.3/'"
   ]
  },
  {
   "cell_type": "code",
   "execution_count": 5,
   "metadata": {},
   "outputs": [],
   "source": [
    "Bk = np.loadtxt(path+'bk_norm03')\n",
    "params = np.loadtxt('params02')"
   ]
  },
  {
   "cell_type": "code",
   "execution_count": 6,
   "metadata": {},
   "outputs": [
    {
     "data": {
      "text/plain": [
       "(1058, 550)"
      ]
     },
     "execution_count": 6,
     "metadata": {},
     "output_type": "execute_result"
    }
   ],
   "source": [
    "N_bins = np.loadtxt(path+'nbins03')\n",
    "N_bins.shape"
   ]
  },
  {
   "cell_type": "code",
   "execution_count": 7,
   "metadata": {},
   "outputs": [
    {
     "data": {
      "text/plain": [
       "array([ 146,  833,  516,  204,  929,  223,  154,   42,   87,   10,  535,\n",
       "        343,  525,  239,   37,  532,  966, 1043])"
      ]
     },
     "execution_count": 7,
     "metadata": {},
     "output_type": "execute_result"
    }
   ],
   "source": [
    "ind= np.loadtxt('index')\n",
    "index = np.zeros(len(ind),dtype=int)\n",
    "for i in range(len(ind)):\n",
    "    index[i] = ind[i]"
   ]
  },
  {
   "cell_type": "code",
   "execution_count": 8,
   "metadata": {},
   "outputs": [],
   "source": [
    "Bk =  np.around(Bk,1)"
   ]
  },
  {
   "cell_type": "code",
   "execution_count": 9,
   "metadata": {},
   "outputs": [],
   "source": [
    "\n",
    "nbins_test = N_bins[index]\n",
    "\n",
    "Bk_03_test = Bk[index]\n",
    "\n",
    "Bk_03_train = np.delete(Bk,index,axis=0)\n",
    "\n",
    "Bk_03_train = Bk_03_train\n",
    "\n",
    "params_test = params[index]\n",
    "\n",
    "params_train = np.delete(params,index,axis=0)\n",
    "\n",
    "params_train = params_train"
   ]
  },
  {
   "cell_type": "code",
   "execution_count": 10,
   "metadata": {},
   "outputs": [
    {
     "data": {
      "text/plain": [
       "array([130.,  45., 200.])"
      ]
     },
     "execution_count": 10,
     "metadata": {},
     "output_type": "execute_result"
    }
   ],
   "source": [
    "params_test[12]"
   ]
  },
  {
   "cell_type": "code",
   "execution_count": 11,
   "metadata": {},
   "outputs": [],
   "source": [
    "def cov(Bk,Nbins):\n",
    "    a = np.eye(550,550)\n",
    "    b = Bk/np.sqrt(Nbins)\n",
    "    b = np.reshape(b,(550,1))\n",
    "    b = b*a\n",
    "    cov_inv = np.linalg.inv(b)\n",
    "    return cov_inv"
   ]
  },
  {
   "cell_type": "code",
   "execution_count": 12,
   "metadata": {},
   "outputs": [],
   "source": [
    "def logL(params):\n",
    "    \n",
    "    nion , rmfp , noh = params\n",
    "    \n",
    "    if nion < 0. or nion > 220. or rmfp < 0. or rmfp > 130. or noh < 50. or noh > 1500.:\n",
    "        logl = -np.inf\n",
    "        \n",
    "    else:\n",
    "        ind = 12\n",
    "        Bk = np.reshape(Bk_03_test[ind],(1,550))\n",
    "        diff = np.subtract(Bk_th(params),Bk)\n",
    "        cov_inv = cov(Bk_03_test[ind],nbins_test[ind])\n",
    "        \n",
    "\n",
    "        logl = -0.5*np.dot(np.dot(diff,cov_inv),diff.T)\n",
    "        logl = logl[0]\n",
    "        #logl = logl/1000.\n",
    "        \n",
    "    return logl\n",
    "        "
   ]
  },
  {
   "cell_type": "code",
   "execution_count": 13,
   "metadata": {},
   "outputs": [
    {
     "data": {
      "text/plain": [
       "'/home/ht/EmuPBk/data/data_Bispectrum/bkkkk0.3.h5'"
      ]
     },
     "execution_count": 13,
     "metadata": {},
     "output_type": "execute_result"
    }
   ],
   "source": [
    "\n",
    "p"
   ]
  },
  {
   "cell_type": "code",
   "execution_count": 14,
   "metadata": {},
   "outputs": [
    {
     "data": {
      "text/plain": [
       "array([-4286.36645154])"
      ]
     },
     "execution_count": 14,
     "metadata": {},
     "output_type": "execute_result"
    }
   ],
   "source": [
    "logL(params_test[12])"
   ]
  },
  {
   "cell_type": "code",
   "execution_count": 31,
   "metadata": {},
   "outputs": [],
   "source": [
    "import emcee\n",
    "import time\n",
    "from multiprocessing import Pool\n",
    "\n",
    "nwalkers = 6\n",
    "ndim = 3\n",
    "a = np.random.randint(20,220,nwalkers)\n",
    "b = np.random.randint(5,130,nwalkers)\n",
    "c = np.random.randint(50,1500,nwalkers)\n",
    "p = np.zeros(shape=(6,3))\n",
    "p[:,0] = a\n",
    "p[:,1] = b\n",
    "p[:,2] = c"
   ]
  },
  {
   "cell_type": "code",
   "execution_count": 32,
   "metadata": {},
   "outputs": [
    {
     "name": "stderr",
     "output_type": "stream",
     "text": [
      "100%|██████████| 2000/2000 [1:14:12<00:00,  2.23s/it]   "
     ]
    },
    {
     "name": "stdout",
     "output_type": "stream",
     "text": [
      "Multiprocessing took 4453.9 seconds\n"
     ]
    },
    {
     "name": "stderr",
     "output_type": "stream",
     "text": [
      "\n"
     ]
    }
   ],
   "source": [
    "nsteps = 2000\n",
    "\n",
    "sampler = emcee.EnsembleSampler(nwalkers, ndim, logL,threads=16,)\n",
    "start = time.time()\n",
    "sampler.run_mcmc(p, nsteps, progress=True)\n",
    "end = time.time()\n",
    "multi_time = end - start\n",
    "print(\"Multiprocessing took {0:.1f} seconds\".format(multi_time))"
   ]
  },
  {
   "cell_type": "code",
   "execution_count": 33,
   "metadata": {},
   "outputs": [],
   "source": [
    "s_flat = sampler.flatchain\n",
    "logl  = sampler.flatlnprobability"
   ]
  },
  {
   "cell_type": "code",
   "execution_count": 34,
   "metadata": {},
   "outputs": [
    {
     "data": {
      "text/plain": [
       "(12000,)"
      ]
     },
     "execution_count": 34,
     "metadata": {},
     "output_type": "execute_result"
    }
   ],
   "source": [
    "logl.shape"
   ]
  },
  {
   "cell_type": "code",
   "execution_count": 38,
   "metadata": {},
   "outputs": [
    {
     "data": {
      "text/plain": [
       "<matplotlib.colorbar.Colorbar at 0x7f59759fd630>"
      ]
     },
     "execution_count": 38,
     "metadata": {},
     "output_type": "execute_result"
    },
    {
     "data": {
      "image/png": "[encoded data removed]",
      "text/plain": [
       "<Figure size 720x432 with 2 Axes>"
      ]
     },
     "metadata": {},
     "output_type": "display_data"
    }
   ],
   "source": [
    "import matplotlib.pyplot as plt\n",
    "plt.figure(figsize=(10,6))\n",
    "plt.scatter(s_flat[:,1],s_flat[:,2],c = logl,cmap=\"viridis_r\")\n",
    "plt.colorbar()"
   ]
  },
  {
   "cell_type": "code",
   "execution_count": 37,
   "metadata": {},
   "outputs": [
    {
     "data": {
      "text/plain": [
       "array([130.,  45., 200.])"
      ]
     },
     "execution_count": 37,
     "metadata": {},
     "output_type": "execute_result"
    },
    {
     "data": {
      "image/png": "[encoded data removed]",
      "text/plain": [
       "<Figure size 432x288 with 3 Axes>"
      ]
     },
     "metadata": {},
     "output_type": "display_data"
    }
   ],
   "source": [
    "plt.subplot(1,3,1)\n",
    "plt.hist(s_flat[:,0],bins=20)\n",
    "plt.subplot(1,3,2)\n",
    "plt.hist(s_flat[:,1],bins=20)\n",
    "plt.subplot(1,3,3)\n",
    "plt.hist(s_flat[:,2],bins=20)\n",
    "params_test[12]"
   ]
  },
  {
   "cell_type": "code",
   "execution_count": null,
   "metadata": {},
   "outputs": [],
   "source": [
    "k1 = np.array([0.1903934])\n",
    "#k1 = np.array([0.3220935, 1.559453 ])\n",
    "k2byk1 = np.arange(0.50,1.05,0.05) \t\t#======Ratio k2byk1========#\n",
    "cosalpha = np.arange(0.50,1.00,0.01)\t#======cosine of the angle between the k2 and k1 arms =======#\n",
    "k2byk1 = k2byk1.reshape(11,1)\n",
    "k2byk1.shape, cosalpha.shape"
   ]
  },
  {
   "cell_type": "code",
   "execution_count": null,
   "metadata": {},
   "outputs": [],
   "source": [
    "Bk_02_pdct = Bk_th(params_test)"
   ]
  },
  {
   "cell_type": "code",
   "execution_count": null,
   "metadata": {},
   "outputs": [],
   "source": [
    "Bk_test = np.zeros(shape=(len(Bk_02_test),11,50))\n",
    "Bk_pdct = np.zeros(shape=(len(Bk_02_test),11,50))\n",
    "for i in range(len(Bk_02_test)):\n",
    "    Bk_pdct[i] = Bk_02_pdct[i].reshape(11,50)\n",
    "    Bk_test[i] = Bk_02_test[i].reshape(11,50)\n",
    "\n",
    "Bk_test = Bk_test\n"
   ]
  },
  {
   "cell_type": "code",
   "execution_count": null,
   "metadata": {},
   "outputs": [],
   "source": []
  },
  {
   "cell_type": "code",
   "execution_count": null,
   "metadata": {},
   "outputs": [],
   "source": [
    "cond = k2byk1*cosalpha\n"
   ]
  },
  {
   "cell_type": "code",
   "execution_count": null,
   "metadata": {},
   "outputs": [],
   "source": [
    "cond = k2byk1*cosalpha\n",
    "for i in range(len(Bk_test)):\n",
    "    for j in range(len(k2byk1)):\n",
    "        for k in range(len(cosalpha)):\n",
    "            if cond[j][k] < 0.5:\n",
    "                Bk_pdct[i][j][k] = np.nan\n",
    "                Bk_test[i][j][k] = np.nan\n",
    "\n",
    "Bk_pdct = np.ma.masked_invalid(Bk_pdct)\n",
    "Bk_test = np.ma.masked_invalid(Bk_test)"
   ]
  },
  {
   "cell_type": "code",
   "execution_count": null,
   "metadata": {},
   "outputs": [],
   "source": [
    "def plot(test_set):\n",
    "    index = test_set\n",
    "    plt.figure(figsize= (16,6))\n",
    "    plt.tick_params(labelsize=10)\n",
    "\n",
    "    #fig.colorbar(pcm, ax=ax[0], extend='both')\n",
    "    plt.suptitle(r'At $k_1$ = {0:f}, $\\zeta$ = {1:.2f}, $Rmfp$= {2:.2f}, $M_h$= {3:.2f}$\\times 10^8 M_\\odot$'\n",
    "                 .format(k1[0],params_test[index][0] , params_test[index][1] ,1.087*params_test[index][2]),size=15)\n",
    "    \n",
    "   \n",
    "    plt.subplot(1,2,1)\n",
    "    plt.title('Bispectrum')\n",
    "    plt.imshow(Bk_test[index],origin='lower',extent=[0.50,0.99,0.50,1.00], cmap=\"Spectral\",norm=colors.SymLogNorm(linthresh=1, linscale=1,\n",
    "                                              vmin=-10000.0, vmax=10000.0))\n",
    "    cbar = plt.colorbar(label=r\"$\\frac{k_1^3.k_2^3.B(k_1,k_2,k_3).\\delta T_b^3}{(2\\pi^2)^2}$\",)\n",
    "    cbar.ax.yaxis.label.set_size(20,)\n",
    "    plt.xlabel(r'$cos(\\alpha)$')\n",
    "    plt.ylabel(r'$k_2/k_1$')   \n",
    "    \n",
    "    plt.subplot(1,2,2)\n",
    "    plt.title('ANN prediction')\n",
    "    plt.imshow(Bk_pdct[index],origin='lower',extent=[0.50,0.99,0.50,1.00], cmap=\"Spectral\",norm=colors.SymLogNorm(linthresh=1, linscale=1,\n",
    "                                              vmin=-10000.0, vmax=10000.0))\n",
    "    cbar = plt.colorbar(label=r\"$\\frac{k_1^3.k_2^3.B(k_1,k_2,k_3).\\delta T_b^3}{(2\\pi^2)^2}$\",)\n",
    "    cbar.ax.yaxis.label.set_size(20,)\n",
    "    plt.ylabel(r'$k_2/k_1$') \n",
    "    plt.xlabel(r'$cos(\\alpha)$')\n",
    "    \n",
    "  \n",
    "\n",
    "            "
   ]
  },
  {
   "cell_type": "code",
   "execution_count": null,
   "metadata": {},
   "outputs": [],
   "source": [
    "from ipywidgets import interact\n",
    "from matplotlib import colors\n",
    "\n",
    "interact(plot,test_set=(0,17,1))"
   ]
  },
  {
   "cell_type": "code",
   "execution_count": null,
   "metadata": {},
   "outputs": [],
   "source": []
  }
 ],
 "metadata": {
  "kernelspec": {
   "display_name": "Python 3",
   "language": "python",
   "name": "python3"
  },
  "language_info": {
   "codemirror_mode": {
    "name": "ipython",
    "version": 3
   },
   "file_extension": ".py",
   "mimetype": "text/x-python",
   "name": "python",
   "nbconvert_exporter": "python",
   "pygments_lexer": "ipython3",
   "version": "3.6.9"
  }
 },
 "nbformat": 4,
 "nbformat_minor": 2
}
