{
 "cells": [
  {
   "cell_type": "code",
   "execution_count": 2,
   "metadata": {},
   "outputs": [],
   "source": [
    "import numpy as np\n",
    "import matplotlib.pyplot as plt\n",
    "from ipywidgets import interact\n",
    "import keras as ks"
   ]
  },
  {
   "cell_type": "code",
   "execution_count": 3,
   "metadata": {},
   "outputs": [
    {
     "name": "stdout",
     "output_type": "stream",
     "text": [
      " 98bk02.h5         dTb02              \u001b[0m\u001b[01;35mindex.png\u001b[0m   'paramter estimation.ipynb'\r\n",
      " \u001b[01;34mbinary_data_02\u001b[0m/   EmuBk0.2.h5        \u001b[01;35mlvac02.png\u001b[0m   x_HI02\r\n",
      " bk_norm02         hyperparam.ipynb   nbins02\r\n",
      " bk_un02           index              params02\r\n"
     ]
    }
   ],
   "source": [
    "%ls"
   ]
  },
  {
   "cell_type": "code",
   "execution_count": 4,
   "metadata": {},
   "outputs": [
    {
     "data": {
      "text/plain": [
       "(1058, 550)"
      ]
     },
     "execution_count": 4,
     "metadata": {},
     "output_type": "execute_result"
    }
   ],
   "source": [
    "N_bins = np.loadtxt('nbins02')\n",
    "N_bins.shape"
   ]
  },
  {
   "cell_type": "code",
   "execution_count": 5,
   "metadata": {},
   "outputs": [
    {
     "data": {
      "text/plain": [
       "(1058, 550)"
      ]
     },
     "execution_count": 5,
     "metadata": {},
     "output_type": "execute_result"
    }
   ],
   "source": [
    "Bk = np.loadtxt('bk_norm02')\n",
    "Bk.shape"
   ]
  },
  {
   "cell_type": "code",
   "execution_count": 6,
   "metadata": {},
   "outputs": [
    {
     "data": {
      "text/plain": [
       "(1058, 3)"
      ]
     },
     "execution_count": 6,
     "metadata": {},
     "output_type": "execute_result"
    }
   ],
   "source": [
    "params = np.loadtxt('params02')\n",
    "params.shape"
   ]
  },
  {
   "cell_type": "code",
   "execution_count": 7,
   "metadata": {},
   "outputs": [
    {
     "name": "stderr",
     "output_type": "stream",
     "text": [
      "/usr/lib/python3/dist-packages/ipykernel_launcher.py:2: RuntimeWarning: divide by zero encountered in true_divide\n",
      "  \n"
     ]
    }
   ],
   "source": [
    "sigma = Bk/np.sqrt(N_bins)\n",
    "cov_inv = 1./sigma"
   ]
  },
  {
   "cell_type": "code",
   "execution_count": 8,
   "metadata": {},
   "outputs": [
    {
     "data": {
      "text/plain": [
       "(1058, 550)"
      ]
     },
     "execution_count": 8,
     "metadata": {},
     "output_type": "execute_result"
    }
   ],
   "source": [
    "cov_inv.shape"
   ]
  },
  {
   "cell_type": "code",
   "execution_count": 9,
   "metadata": {},
   "outputs": [],
   "source": [
    "cov = np.zeros(shape=(1058,550,550))\n",
    "for i in range(1058):\n",
    "    for j in range(550):\n",
    "        cov[i][j][j] = cov_inv[i][j]"
   ]
  },
  {
   "cell_type": "code",
   "execution_count": 10,
   "metadata": {},
   "outputs": [
    {
     "data": {
      "text/plain": [
       "array([ 146,  833,  516,  204,  929,  223,  154,   42,   87,   10,  535,\n",
       "        343,  525,  239,   37,  532,  966, 1043])"
      ]
     },
     "execution_count": 10,
     "metadata": {},
     "output_type": "execute_result"
    }
   ],
   "source": [
    "ind = np.loadtxt('index')\n",
    "index = np.zeros(len(ind),dtype=int)\n",
    "for i in range(len(ind)):\n",
    "    index[i] = int(ind[i])\n",
    "index"
   ]
  },
  {
   "cell_type": "code",
   "execution_count": 11,
   "metadata": {},
   "outputs": [],
   "source": [
    "Bk_test = Bk[index]\n",
    "params_test = params[index]\n",
    "cov_inv_test = cov[index]"
   ]
  },
  {
   "cell_type": "code",
   "execution_count": 12,
   "metadata": {},
   "outputs": [
    {
     "data": {
      "text/plain": [
       "(550, 550)"
      ]
     },
     "execution_count": 12,
     "metadata": {},
     "output_type": "execute_result"
    }
   ],
   "source": [
    "cov_inv_test[0].shape"
   ]
  },
  {
   "cell_type": "code",
   "execution_count": 13,
   "metadata": {},
   "outputs": [
    {
     "data": {
      "text/plain": [
       "2455097.5502784983"
      ]
     },
     "execution_count": 13,
     "metadata": {},
     "output_type": "execute_result"
    }
   ],
   "source": [
    "np.dot(np.dot(Bk_test[0],cov_inv_test[0]),Bk_test[0])"
   ]
  },
  {
   "cell_type": "code",
   "execution_count": 14,
   "metadata": {},
   "outputs": [],
   "source": [
    "def Bk_model(params):\n",
    "    \n",
    "    model = ks.models.load_model('98bk02.h5')\n",
    "    model = model.predict([[params]])\n",
    "    model = model*100.\n",
    "    \n",
    "    return model"
   ]
  },
  {
   "cell_type": "code",
   "execution_count": 35,
   "metadata": {},
   "outputs": [],
   "source": [
    "def lL(params,Bk,cov_inv):\n",
    "    Nion,Rmfp,NoH = params\n",
    "    if Nion<=0. or Rmfp<=0. or NoH<=0. :\n",
    "        l=-1000000000\n",
    "    else:\n",
    "        #covv = np.reshape(cov_inv_test[0],(1,550))\n",
    "        model=Bk_model(params)\n",
    "        DMU=Bk-model\n",
    "        l=-0.5*np.dot(np.dot(DMU,cov_inv),DMU.T)\n",
    "   \n",
    "    return l"
   ]
  },
  {
   "cell_type": "code",
   "execution_count": 36,
   "metadata": {},
   "outputs": [],
   "source": [
    "ndim=3            #===== no. of parameters =======#\n",
    "\n",
    "nwalkers=6      #========= no. of random walkers ========#\n",
    "\n",
    "Nion = np.random.randint(20,200,6).T\n",
    "Rmfp = np.random.randint(20,120,6).T\n",
    "NoH = np.random.randint(50,1100,6).T\n",
    "p = np.zeros(shape=(6,3))\n",
    "p[:,0] = Nion\n",
    "p[:,1] = Rmfp\n",
    "p[:,2] = NoH\n"
   ]
  },
  {
   "cell_type": "code",
   "execution_count": 37,
   "metadata": {},
   "outputs": [
    {
     "data": {
      "text/plain": [
       "(1, 550)"
      ]
     },
     "execution_count": 37,
     "metadata": {},
     "output_type": "execute_result"
    }
   ],
   "source": [
    "B= Bk_test[0]-Bk_model(p[0])\n",
    "B.shape"
   ]
  },
  {
   "cell_type": "code",
   "execution_count": 38,
   "metadata": {},
   "outputs": [
    {
     "data": {
      "text/plain": [
       "array([[-941771.35223812]])"
      ]
     },
     "execution_count": 38,
     "metadata": {},
     "output_type": "execute_result"
    }
   ],
   "source": [
    "lL(p[0],Bk_test[0],cov_inv_test[0])"
   ]
  },
  {
   "cell_type": "code",
   "execution_count": null,
   "metadata": {},
   "outputs": [],
   "source": [
    "sampler=emcee.EnsembleSampler(nwalkers,ndim,lL,args=[Bk_test,cov_inv_test])"
   ]
  },
  {
   "cell_type": "code",
   "execution_count": null,
   "metadata": {},
   "outputs": [],
   "source": [
    "# -----------initialising the starting point in the chain ------------------#\n",
    "O[0]=random.uniform()\n",
    "hl[0]=random.uniform()\n",
    "\n",
    "#-------first value of loglikelyhood given by randomly generated values==# \n",
    "lL[0]=logL(O[0],hl[0])  \n",
    "\n",
    "\n",
    "#==============metropolis-hasting================#\n",
    "\n",
    "for i in range(1,N):\n",
    "    L_prev=logL(O[i-1],hl[i-1])\n",
    "    Omega_next=random.normal(O[i-1],sigma)\n",
    "    h_next=random.normal(hl[i-1],sigma)\n",
    "    L_next=logL(Omega_next,h_next)\n",
    "    \n",
    "    \n",
    "    if(L_next-L_prev > log(random.uniform())):\n",
    "        O[i]=Omega_next\n",
    "        hl[i]=h_next\n",
    "        lL[i]=L_next\n",
    "    else:\n",
    "        O[i]=O[i-1]\n",
    "        hl[i]=hl[i-1]\n",
    "        lL[i]=lL[i-1]\n",
    "        "
   ]
  }
 ],
 "metadata": {
  "kernelspec": {
   "display_name": "Python 3",
   "language": "python",
   "name": "python3"
  },
  "language_info": {
   "codemirror_mode": {
    "name": "ipython",
    "version": 3
   },
   "file_extension": ".py",
   "mimetype": "text/x-python",
   "name": "python",
   "nbconvert_exporter": "python",
   "pygments_lexer": "ipython3",
   "version": "3.6.9"
  }
 },
 "nbformat": 4,
 "nbformat_minor": 2
}
