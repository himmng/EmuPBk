{
 "cells": [
  {
   "cell_type": "code",
   "execution_count": 5,
   "metadata": {},
   "outputs": [],
   "source": [
    "import numpy as np\n",
    "import keras as ks\n",
    "import matplotlib.pyplot as plt\n",
    "from ipywidgets import interact\n",
    "from matplotlib import colors"
   ]
  },
  {
   "cell_type": "code",
   "execution_count": 6,
   "metadata": {},
   "outputs": [],
   "source": [
    "path1 = '/home/ht/EmuPBk/data/data_Bispectrum/k0.2/'"
   ]
  },
  {
   "cell_type": "code",
   "execution_count": 2,
   "metadata": {},
   "outputs": [],
   "source": [
    "Bk_02_test = np.loadtxt('norm_Bk02')\n",
    "params_test = np.loadtxt('params_test')\n",
    "x_H1_test = np.loadtxt('x_H1_test')"
   ]
  },
  {
   "cell_type": "code",
   "execution_count": 3,
   "metadata": {},
   "outputs": [],
   "source": [
    "model = ks.models.load_model('Bk0.2New.h5')"
   ]
  },
  {
   "cell_type": "code",
   "execution_count": 4,
   "metadata": {},
   "outputs": [],
   "source": [
    "Bk_02_pdct = model.predict(params_test)"
   ]
  },
  {
   "cell_type": "code",
   "execution_count": 5,
   "metadata": {},
   "outputs": [
    {
     "data": {
      "text/plain": [
       "((40, 550), (40, 550))"
      ]
     },
     "execution_count": 5,
     "metadata": {},
     "output_type": "execute_result"
    }
   ],
   "source": [
    "Bk_02_pdct.shape, Bk_02_test.shape"
   ]
  },
  {
   "cell_type": "code",
   "execution_count": 6,
   "metadata": {},
   "outputs": [
    {
     "data": {
      "text/plain": [
       "((11, 1), (50,))"
      ]
     },
     "execution_count": 6,
     "metadata": {},
     "output_type": "execute_result"
    }
   ],
   "source": [
    "k1 = np.array([0.1903934])\n",
    "#k1 = np.array([0.3220935, 1.559453 ])\n",
    "k2byk1 = np.arange(0.50,1.05,0.05) \t\t#======Ratio k2byk1========#\n",
    "cosalpha = np.arange(0.50,1.00,0.01)\t#======cosine of the angle between the k2 and k1 arms =======#\n",
    "k2byk1 = k2byk1.reshape(11,1)\n",
    "k2byk1.shape, cosalpha.shape"
   ]
  },
  {
   "cell_type": "code",
   "execution_count": 7,
   "metadata": {},
   "outputs": [],
   "source": [
    "Bk_test = np.zeros(shape=(len(Bk_02_test),11,50))\n",
    "Bk_pdct = np.zeros(shape=(len(Bk_02_pdct),11,50))\n",
    "for i in range(len(Bk_pdct)):\n",
    "    Bk_pdct[i] = Bk_02_pdct[i].reshape(11,50)\n",
    "    Bk_test[i] = Bk_02_test[i].reshape(11,50)\n",
    "\n",
    "Bk_pdct = Bk_pdct*100\n",
    "Bk_test = Bk_test"
   ]
  },
  {
   "cell_type": "code",
   "execution_count": null,
   "metadata": {},
   "outputs": [],
   "source": []
  },
  {
   "cell_type": "code",
   "execution_count": null,
   "metadata": {},
   "outputs": [],
   "source": []
  },
  {
   "cell_type": "code",
   "execution_count": 8,
   "metadata": {},
   "outputs": [
    {
     "data": {
      "text/plain": [
       "array([[0.25  , 0.255 , 0.26  , 0.265 , 0.27  , 0.275 , 0.28  , 0.285 ,\n",
       "        0.29  , 0.295 , 0.3   , 0.305 , 0.31  , 0.315 , 0.32  , 0.325 ,\n",
       "        0.33  , 0.335 , 0.34  , 0.345 , 0.35  , 0.355 , 0.36  , 0.365 ,\n",
       "        0.37  , 0.375 , 0.38  , 0.385 , 0.39  , 0.395 , 0.4   , 0.405 ,\n",
       "        0.41  , 0.415 , 0.42  , 0.425 , 0.43  , 0.435 , 0.44  , 0.445 ,\n",
       "        0.45  , 0.455 , 0.46  , 0.465 , 0.47  , 0.475 , 0.48  , 0.485 ,\n",
       "        0.49  , 0.495 ],\n",
       "       [0.275 , 0.2805, 0.286 , 0.2915, 0.297 , 0.3025, 0.308 , 0.3135,\n",
       "        0.319 , 0.3245, 0.33  , 0.3355, 0.341 , 0.3465, 0.352 , 0.3575,\n",
       "        0.363 , 0.3685, 0.374 , 0.3795, 0.385 , 0.3905, 0.396 , 0.4015,\n",
       "        0.407 , 0.4125, 0.418 , 0.4235, 0.429 , 0.4345, 0.44  , 0.4455,\n",
       "        0.451 , 0.4565, 0.462 , 0.4675, 0.473 , 0.4785, 0.484 , 0.4895,\n",
       "        0.495 , 0.5005, 0.506 , 0.5115, 0.517 , 0.5225, 0.528 , 0.5335,\n",
       "        0.539 , 0.5445],\n",
       "       [0.3   , 0.306 , 0.312 , 0.318 , 0.324 , 0.33  , 0.336 , 0.342 ,\n",
       "        0.348 , 0.354 , 0.36  , 0.366 , 0.372 , 0.378 , 0.384 , 0.39  ,\n",
       "        0.396 , 0.402 , 0.408 , 0.414 , 0.42  , 0.426 , 0.432 , 0.438 ,\n",
       "        0.444 , 0.45  , 0.456 , 0.462 , 0.468 , 0.474 , 0.48  , 0.486 ,\n",
       "        0.492 , 0.498 , 0.504 , 0.51  , 0.516 , 0.522 , 0.528 , 0.534 ,\n",
       "        0.54  , 0.546 , 0.552 , 0.558 , 0.564 , 0.57  , 0.576 , 0.582 ,\n",
       "        0.588 , 0.594 ],\n",
       "       [0.325 , 0.3315, 0.338 , 0.3445, 0.351 , 0.3575, 0.364 , 0.3705,\n",
       "        0.377 , 0.3835, 0.39  , 0.3965, 0.403 , 0.4095, 0.416 , 0.4225,\n",
       "        0.429 , 0.4355, 0.442 , 0.4485, 0.455 , 0.4615, 0.468 , 0.4745,\n",
       "        0.481 , 0.4875, 0.494 , 0.5005, 0.507 , 0.5135, 0.52  , 0.5265,\n",
       "        0.533 , 0.5395, 0.546 , 0.5525, 0.559 , 0.5655, 0.572 , 0.5785,\n",
       "        0.585 , 0.5915, 0.598 , 0.6045, 0.611 , 0.6175, 0.624 , 0.6305,\n",
       "        0.637 , 0.6435],\n",
       "       [0.35  , 0.357 , 0.364 , 0.371 , 0.378 , 0.385 , 0.392 , 0.399 ,\n",
       "        0.406 , 0.413 , 0.42  , 0.427 , 0.434 , 0.441 , 0.448 , 0.455 ,\n",
       "        0.462 , 0.469 , 0.476 , 0.483 , 0.49  , 0.497 , 0.504 , 0.511 ,\n",
       "        0.518 , 0.525 , 0.532 , 0.539 , 0.546 , 0.553 , 0.56  , 0.567 ,\n",
       "        0.574 , 0.581 , 0.588 , 0.595 , 0.602 , 0.609 , 0.616 , 0.623 ,\n",
       "        0.63  , 0.637 , 0.644 , 0.651 , 0.658 , 0.665 , 0.672 , 0.679 ,\n",
       "        0.686 , 0.693 ],\n",
       "       [0.375 , 0.3825, 0.39  , 0.3975, 0.405 , 0.4125, 0.42  , 0.4275,\n",
       "        0.435 , 0.4425, 0.45  , 0.4575, 0.465 , 0.4725, 0.48  , 0.4875,\n",
       "        0.495 , 0.5025, 0.51  , 0.5175, 0.525 , 0.5325, 0.54  , 0.5475,\n",
       "        0.555 , 0.5625, 0.57  , 0.5775, 0.585 , 0.5925, 0.6   , 0.6075,\n",
       "        0.615 , 0.6225, 0.63  , 0.6375, 0.645 , 0.6525, 0.66  , 0.6675,\n",
       "        0.675 , 0.6825, 0.69  , 0.6975, 0.705 , 0.7125, 0.72  , 0.7275,\n",
       "        0.735 , 0.7425],\n",
       "       [0.4   , 0.408 , 0.416 , 0.424 , 0.432 , 0.44  , 0.448 , 0.456 ,\n",
       "        0.464 , 0.472 , 0.48  , 0.488 , 0.496 , 0.504 , 0.512 , 0.52  ,\n",
       "        0.528 , 0.536 , 0.544 , 0.552 , 0.56  , 0.568 , 0.576 , 0.584 ,\n",
       "        0.592 , 0.6   , 0.608 , 0.616 , 0.624 , 0.632 , 0.64  , 0.648 ,\n",
       "        0.656 , 0.664 , 0.672 , 0.68  , 0.688 , 0.696 , 0.704 , 0.712 ,\n",
       "        0.72  , 0.728 , 0.736 , 0.744 , 0.752 , 0.76  , 0.768 , 0.776 ,\n",
       "        0.784 , 0.792 ],\n",
       "       [0.425 , 0.4335, 0.442 , 0.4505, 0.459 , 0.4675, 0.476 , 0.4845,\n",
       "        0.493 , 0.5015, 0.51  , 0.5185, 0.527 , 0.5355, 0.544 , 0.5525,\n",
       "        0.561 , 0.5695, 0.578 , 0.5865, 0.595 , 0.6035, 0.612 , 0.6205,\n",
       "        0.629 , 0.6375, 0.646 , 0.6545, 0.663 , 0.6715, 0.68  , 0.6885,\n",
       "        0.697 , 0.7055, 0.714 , 0.7225, 0.731 , 0.7395, 0.748 , 0.7565,\n",
       "        0.765 , 0.7735, 0.782 , 0.7905, 0.799 , 0.8075, 0.816 , 0.8245,\n",
       "        0.833 , 0.8415],\n",
       "       [0.45  , 0.459 , 0.468 , 0.477 , 0.486 , 0.495 , 0.504 , 0.513 ,\n",
       "        0.522 , 0.531 , 0.54  , 0.549 , 0.558 , 0.567 , 0.576 , 0.585 ,\n",
       "        0.594 , 0.603 , 0.612 , 0.621 , 0.63  , 0.639 , 0.648 , 0.657 ,\n",
       "        0.666 , 0.675 , 0.684 , 0.693 , 0.702 , 0.711 , 0.72  , 0.729 ,\n",
       "        0.738 , 0.747 , 0.756 , 0.765 , 0.774 , 0.783 , 0.792 , 0.801 ,\n",
       "        0.81  , 0.819 , 0.828 , 0.837 , 0.846 , 0.855 , 0.864 , 0.873 ,\n",
       "        0.882 , 0.891 ],\n",
       "       [0.475 , 0.4845, 0.494 , 0.5035, 0.513 , 0.5225, 0.532 , 0.5415,\n",
       "        0.551 , 0.5605, 0.57  , 0.5795, 0.589 , 0.5985, 0.608 , 0.6175,\n",
       "        0.627 , 0.6365, 0.646 , 0.6555, 0.665 , 0.6745, 0.684 , 0.6935,\n",
       "        0.703 , 0.7125, 0.722 , 0.7315, 0.741 , 0.7505, 0.76  , 0.7695,\n",
       "        0.779 , 0.7885, 0.798 , 0.8075, 0.817 , 0.8265, 0.836 , 0.8455,\n",
       "        0.855 , 0.8645, 0.874 , 0.8835, 0.893 , 0.9025, 0.912 , 0.9215,\n",
       "        0.931 , 0.9405],\n",
       "       [0.5   , 0.51  , 0.52  , 0.53  , 0.54  , 0.55  , 0.56  , 0.57  ,\n",
       "        0.58  , 0.59  , 0.6   , 0.61  , 0.62  , 0.63  , 0.64  , 0.65  ,\n",
       "        0.66  , 0.67  , 0.68  , 0.69  , 0.7   , 0.71  , 0.72  , 0.73  ,\n",
       "        0.74  , 0.75  , 0.76  , 0.77  , 0.78  , 0.79  , 0.8   , 0.81  ,\n",
       "        0.82  , 0.83  , 0.84  , 0.85  , 0.86  , 0.87  , 0.88  , 0.89  ,\n",
       "        0.9   , 0.91  , 0.92  , 0.93  , 0.94  , 0.95  , 0.96  , 0.97  ,\n",
       "        0.98  , 0.99  ]])"
      ]
     },
     "execution_count": 8,
     "metadata": {},
     "output_type": "execute_result"
    }
   ],
   "source": [
    "cond = k2byk1*cosalpha\n",
    "cond"
   ]
  },
  {
   "cell_type": "code",
   "execution_count": 9,
   "metadata": {},
   "outputs": [],
   "source": [
    "cond = k2byk1*cosalpha\n",
    "for i in range(len(Bk_pdct)):\n",
    "    for j in range(len(k2byk1)):\n",
    "        for k in range(len(cosalpha)):\n",
    "            if cond[j][k] < 0.5:\n",
    "                Bk_pdct[i][j][k] = np.nan\n",
    "                Bk_test[i][j][k] = np.nan\n",
    "\n",
    "Bk_pdct = np.ma.masked_invalid(Bk_pdct)\n",
    "Bk_test = np.ma.masked_invalid(Bk_test)"
   ]
  },
  {
   "cell_type": "code",
   "execution_count": 10,
   "metadata": {},
   "outputs": [],
   "source": [
    "x,y = np.meshgrid(cosalpha,k2byk1)"
   ]
  },
  {
   "cell_type": "code",
   "execution_count": 11,
   "metadata": {},
   "outputs": [
    {
     "data": {
      "text/plain": [
       "array([0.5 , 0.51, 0.52, 0.53, 0.54, 0.55, 0.56, 0.57, 0.58, 0.59, 0.6 ,\n",
       "       0.61, 0.62, 0.63, 0.64, 0.65, 0.66, 0.67, 0.68, 0.69, 0.7 , 0.71,\n",
       "       0.72, 0.73, 0.74, 0.75, 0.76, 0.77, 0.78, 0.79, 0.8 , 0.81, 0.82,\n",
       "       0.83, 0.84, 0.85, 0.86, 0.87, 0.88, 0.89, 0.9 , 0.91, 0.92, 0.93,\n",
       "       0.94, 0.95, 0.96, 0.97, 0.98, 0.99])"
      ]
     },
     "execution_count": 11,
     "metadata": {},
     "output_type": "execute_result"
    }
   ],
   "source": [
    "cosalpha"
   ]
  },
  {
   "cell_type": "code",
   "execution_count": 12,
   "metadata": {},
   "outputs": [
    {
     "data": {
      "text/plain": [
       "array([[0.5 ],\n",
       "       [0.55],\n",
       "       [0.6 ],\n",
       "       [0.65],\n",
       "       [0.7 ],\n",
       "       [0.75],\n",
       "       [0.8 ],\n",
       "       [0.85],\n",
       "       [0.9 ],\n",
       "       [0.95],\n",
       "       [1.  ]])"
      ]
     },
     "execution_count": 12,
     "metadata": {},
     "output_type": "execute_result"
    }
   ],
   "source": [
    "k2byk1"
   ]
  },
  {
   "cell_type": "code",
   "execution_count": null,
   "metadata": {},
   "outputs": [],
   "source": []
  },
  {
   "cell_type": "code",
   "execution_count": 39,
   "metadata": {},
   "outputs": [],
   "source": [
    "def plot(index):\n",
    "    plt.figure(figsize= (14,6))\n",
    "    plt.tick_params(labelsize=10)\n",
    "\n",
    "    plt.suptitle(r'At $k_1$ = {0:f},$x_H$ = {1:.3f}, $\\zeta$ = {2:.2f}, $Rmfp$= {3:.2f}, $M_h$= {4:.2f}$\\times 10^8 M_\\odot$'.format(k1[0],x_H1_test[index],params_test[index][0] , params_test[index][1] ,1.087*params_test[index][2]))\n",
    "    \n",
    "    #norm = colors.NoNorm(vmin=-1000,vmax=1000)\n",
    "    plt.subplot(1,2,1)\n",
    "    plt.title('Bispectrum')\n",
    "    plt.imshow(Bk_test[index],origin='lower',extent=[0.50,0.99,0.50,1.00], cmap=\"viridis\",)#norm = norm)\n",
    "    plt.colorbar(label=r\"$\\frac{k_1^3k_2^3Bk}{(2\\pi^2)^2}$\",)\n",
    "\n",
    "    plt.xlabel(r'$cos(\\alpha)$')\n",
    "    plt.ylabel(r'$k_2/k_1$')   \n",
    "    \n",
    "    plt.subplot(1,2,2)\n",
    "    plt.title('ANN prediction')\n",
    "    plt.imshow(Bk_pdct[index],origin='lower',extent=[0.50,0.99,0.50,1.00], cmap=\"viridis\",)#norm = norm)\n",
    "    plt.colorbar(label=r\"$\\frac{k_1^3k_2^3Bk}{(2\\pi^2)^2}$\",)\n",
    "    plt.xlabel(r'$cos(\\alpha)$')\n",
    "    plt.ylabel(r'$k_2/k_1$') \n",
    "    \n",
    "  \n",
    "\n",
    "            "
   ]
  },
  {
   "cell_type": "code",
   "execution_count": 40,
   "metadata": {},
   "outputs": [
    {
     "data": {
      "image/png": "[encoded data removed]",
      "text/plain": [
       "<Figure size 1008x432 with 4 Axes>"
      ]
     },
     "metadata": {},
     "output_type": "display_data"
    }
   ],
   "source": [
    "interact(plot, index =(0,len(Bk_pdct)-1,1))"
   ]
  },
  {
   "cell_type": "code",
   "execution_count": 35,
   "metadata": {},
   "outputs": [],
   "source": [
    "import cPickle as cp\n",
    "import numpy as np"
   ]
  },
  {
   "cell_type": "code",
   "execution_count": 36,
   "metadata": {},
   "outputs": [],
   "source": [
    "Ntbins02 = cp.load(open('N0.2.pkl','rb'))\n",
    "Ntbins03 = cp.load(open('N0.3.pkl','rb'))\n",
    "Ntbins15 = cp.load(open('N15.pkl','rb'))\n",
    "Bk = cp.load(open('Bispec0.2.pkl','rb'))"
   ]
  },
  {
   "cell_type": "code",
   "execution_count": 37,
   "metadata": {},
   "outputs": [
    {
     "data": {
      "text/plain": [
       "((1063, 11, 50), (1063, 11, 50), (1063, 11, 50), (1063, 11, 50))"
      ]
     },
     "execution_count": 37,
     "metadata": {},
     "output_type": "execute_result"
    }
   ],
   "source": [
    "Ntbins02.shape,Ntbins03.shape,Ntbins15.shape,Bk.shape"
   ]
  },
  {
   "cell_type": "code",
   "execution_count": 38,
   "metadata": {},
   "outputs": [
    {
     "data": {
      "text/plain": [
       "[625, 659, 758, 731, 759]"
      ]
     },
     "execution_count": 38,
     "metadata": {},
     "output_type": "execute_result"
    }
   ],
   "source": [
    "a = np.argwhere(np.isnan(Bk))\n",
    "a= a[:,0]\n",
    "a = set(a)\n",
    "a = list(a)\n",
    "a"
   ]
  },
  {
   "cell_type": "code",
   "execution_count": 39,
   "metadata": {},
   "outputs": [],
   "source": [
    "Ntbins02 = np.delete(Ntbins02,a,axis = 0)\n",
    "Ntbins03 = np.delete(Ntbins03,a,axis = 0)\n",
    "Ntbins15 = np.delete(Ntbins15,a,axis = 0)\n",
    "Bk = np.delete(Bk,a,axis=0)"
   ]
  },
  {
   "cell_type": "code",
   "execution_count": 40,
   "metadata": {},
   "outputs": [
    {
     "data": {
      "text/plain": [
       "(array([[[ 1172.,  1972.,  2244., ...,  7960.,  8040.,  8084.],\n",
       "         [ 1600.,  2112.,  2504., ...,  8800.,  8868.,  8936.],\n",
       "         [ 1620.,  2292.,  2732., ...,  9580.,  9692.,  9692.],\n",
       "         ...,\n",
       "         [ 2452.,  3536.,  4020., ..., 14392., 14516., 14560.],\n",
       "         [ 2340.,  3760.,  4248., ..., 15196., 15280., 15380.],\n",
       "         [ 2312.,  3892.,  4452., ..., 15972., 16092., 16196.]],\n",
       " \n",
       "        [[ 1172.,  1972.,  2244., ...,  7960.,  8040.,  8084.],\n",
       "         [ 1600.,  2112.,  2504., ...,  8800.,  8868.,  8936.],\n",
       "         [ 1620.,  2292.,  2732., ...,  9580.,  9692.,  9692.],\n",
       "         ...,\n",
       "         [ 2452.,  3536.,  4020., ..., 14392., 14516., 14560.],\n",
       "         [ 2340.,  3760.,  4248., ..., 15196., 15280., 15380.],\n",
       "         [ 2312.,  3892.,  4452., ..., 15972., 16092., 16196.]],\n",
       " \n",
       "        [[ 1172.,  1972.,  2244., ...,  7960.,  8040.,  8084.],\n",
       "         [ 1600.,  2112.,  2504., ...,  8800.,  8868.,  8936.],\n",
       "         [ 1620.,  2292.,  2732., ...,  9580.,  9692.,  9692.],\n",
       "         ...,\n",
       "         [ 2452.,  3536.,  4020., ..., 14392., 14516., 14560.],\n",
       "         [ 2340.,  3760.,  4248., ..., 15196., 15280., 15380.],\n",
       "         [ 2312.,  3892.,  4452., ..., 15972., 16092., 16196.]],\n",
       " \n",
       "        ...,\n",
       " \n",
       "        [[ 1172.,  1972.,  2244., ...,  7960.,  8040.,  8084.],\n",
       "         [ 1600.,  2112.,  2504., ...,  8800.,  8868.,  8936.],\n",
       "         [ 1620.,  2292.,  2732., ...,  9580.,  9692.,  9692.],\n",
       "         ...,\n",
       "         [ 2452.,  3536.,  4020., ..., 14392., 14516., 14560.],\n",
       "         [ 2340.,  3760.,  4248., ..., 15196., 15280., 15380.],\n",
       "         [ 2312.,  3892.,  4452., ..., 15972., 16092., 16196.]],\n",
       " \n",
       "        [[ 1172.,  1972.,  2244., ...,  7960.,  8040.,  8084.],\n",
       "         [ 1600.,  2112.,  2504., ...,  8800.,  8868.,  8936.],\n",
       "         [ 1620.,  2292.,  2732., ...,  9580.,  9692.,  9692.],\n",
       "         ...,\n",
       "         [ 2452.,  3536.,  4020., ..., 14392., 14516., 14560.],\n",
       "         [ 2340.,  3760.,  4248., ..., 15196., 15280., 15380.],\n",
       "         [ 2312.,  3892.,  4452., ..., 15972., 16092., 16196.]],\n",
       " \n",
       "        [[ 1172.,  1972.,  2244., ...,  7960.,  8040.,  8084.],\n",
       "         [ 1600.,  2112.,  2504., ...,  8800.,  8868.,  8936.],\n",
       "         [ 1620.,  2292.,  2732., ...,  9580.,  9692.,  9692.],\n",
       "         ...,\n",
       "         [ 2452.,  3536.,  4020., ..., 14392., 14516., 14560.],\n",
       "         [ 2340.,  3760.,  4248., ..., 15196., 15280., 15380.],\n",
       "         [ 2312.,  3892.,  4452., ..., 15972., 16092., 16196.]]]),\n",
       " array([[[ 10650.,  15222.,  18602., ...,  65066.,  65542.,  65838.],\n",
       "         [ 11818.,  16690.,  20522., ...,  71638.,  72118.,  72562.],\n",
       "         [ 13010.,  18046.,  22174., ...,  78030.,  78566.,  79062.],\n",
       "         ...,\n",
       "         [ 19262.,  27062.,  33598., ..., 117054., 117882., 118706.],\n",
       "         [ 19926.,  28898.,  35378., ..., 123510., 124426., 125362.],\n",
       "         [ 21354.,  30450.,  37234., ..., 130102., 131138., 131742.]],\n",
       " \n",
       "        [[ 10650.,  15222.,  18602., ...,  65066.,  65542.,  65838.],\n",
       "         [ 11818.,  16690.,  20522., ...,  71638.,  72118.,  72562.],\n",
       "         [ 13010.,  18046.,  22174., ...,  78030.,  78566.,  79062.],\n",
       "         ...,\n",
       "         [ 19262.,  27062.,  33598., ..., 117054., 117882., 118706.],\n",
       "         [ 19926.,  28898.,  35378., ..., 123510., 124426., 125362.],\n",
       "         [ 21354.,  30450.,  37234., ..., 130102., 131138., 131742.]],\n",
       " \n",
       "        [[ 10650.,  15222.,  18602., ...,  65066.,  65542.,  65838.],\n",
       "         [ 11818.,  16690.,  20522., ...,  71638.,  72118.,  72562.],\n",
       "         [ 13010.,  18046.,  22174., ...,  78030.,  78566.,  79062.],\n",
       "         ...,\n",
       "         [ 19262.,  27062.,  33598., ..., 117054., 117882., 118706.],\n",
       "         [ 19926.,  28898.,  35378., ..., 123510., 124426., 125362.],\n",
       "         [ 21354.,  30450.,  37234., ..., 130102., 131138., 131742.]],\n",
       " \n",
       "        ...,\n",
       " \n",
       "        [[ 10650.,  15222.,  18602., ...,  65066.,  65542.,  65838.],\n",
       "         [ 11818.,  16690.,  20522., ...,  71638.,  72118.,  72562.],\n",
       "         [ 13010.,  18046.,  22174., ...,  78030.,  78566.,  79062.],\n",
       "         ...,\n",
       "         [ 19262.,  27062.,  33598., ..., 117054., 117882., 118706.],\n",
       "         [ 19926.,  28898.,  35378., ..., 123510., 124426., 125362.],\n",
       "         [ 21354.,  30450.,  37234., ..., 130102., 131138., 131742.]],\n",
       " \n",
       "        [[ 10650.,  15222.,  18602., ...,  65066.,  65542.,  65838.],\n",
       "         [ 11818.,  16690.,  20522., ...,  71638.,  72118.,  72562.],\n",
       "         [ 13010.,  18046.,  22174., ...,  78030.,  78566.,  79062.],\n",
       "         ...,\n",
       "         [ 19262.,  27062.,  33598., ..., 117054., 117882., 118706.],\n",
       "         [ 19926.,  28898.,  35378., ..., 123510., 124426., 125362.],\n",
       "         [ 21354.,  30450.,  37234., ..., 130102., 131138., 131742.]],\n",
       " \n",
       "        [[ 10650.,  15222.,  18602., ...,  65066.,  65542.,  65838.],\n",
       "         [ 11818.,  16690.,  20522., ...,  71638.,  72118.,  72562.],\n",
       "         [ 13010.,  18046.,  22174., ...,  78030.,  78566.,  79062.],\n",
       "         ...,\n",
       "         [ 19262.,  27062.,  33598., ..., 117054., 117882., 118706.],\n",
       "         [ 19926.,  28898.,  35378., ..., 123510., 124426., 125362.],\n",
       "         [ 21354.,  30450.,  37234., ..., 130102., 131138., 131742.]]]),\n",
       " array([[[ 6143456.,  8665944., 10585720., ..., 28262820., 28357140.,\n",
       "          28444080.],\n",
       "         [ 6755864.,  9532476., 11645990., ..., 29505710., 29594490.,\n",
       "          29680000.],\n",
       "         [ 7371856., 10398320., 12703970., ..., 30586660., 30671710.,\n",
       "          30752920.],\n",
       "         ...,\n",
       "         [11052870., 15530620., 18504630., ..., 34768520., 34824110.,\n",
       "          34880280.],\n",
       "         [11671660., 16325810., 19320050., ..., 35202980., 35260760.,\n",
       "          35311240.],\n",
       "         [12286480., 17084200., 20096270., ..., 35594880., 35647490.,\n",
       "          35695080.]],\n",
       " \n",
       "        [[ 6143456.,  8665944., 10585720., ..., 28262820., 28357140.,\n",
       "          28444080.],\n",
       "         [ 6755864.,  9532476., 11645990., ..., 29505710., 29594490.,\n",
       "          29680000.],\n",
       "         [ 7371856., 10398320., 12703970., ..., 30586660., 30671710.,\n",
       "          30752920.],\n",
       "         ...,\n",
       "         [11052870., 15530620., 18504630., ..., 34768520., 34824110.,\n",
       "          34880280.],\n",
       "         [11671660., 16325810., 19320050., ..., 35202980., 35260760.,\n",
       "          35311240.],\n",
       "         [12286480., 17084200., 20096270., ..., 35594880., 35647490.,\n",
       "          35695080.]],\n",
       " \n",
       "        [[ 6143456.,  8665944., 10585720., ..., 28262820., 28357140.,\n",
       "          28444080.],\n",
       "         [ 6755864.,  9532476., 11645990., ..., 29505710., 29594490.,\n",
       "          29680000.],\n",
       "         [ 7371856., 10398320., 12703970., ..., 30586660., 30671710.,\n",
       "          30752920.],\n",
       "         ...,\n",
       "         [11052870., 15530620., 18504630., ..., 34768520., 34824110.,\n",
       "          34880280.],\n",
       "         [11671660., 16325810., 19320050., ..., 35202980., 35260760.,\n",
       "          35311240.],\n",
       "         [12286480., 17084200., 20096270., ..., 35594880., 35647490.,\n",
       "          35695080.]],\n",
       " \n",
       "        ...,\n",
       " \n",
       "        [[ 6143456.,  8665944., 10585720., ..., 28262820., 28357140.,\n",
       "          28444080.],\n",
       "         [ 6755864.,  9532476., 11645990., ..., 29505710., 29594490.,\n",
       "          29680000.],\n",
       "         [ 7371856., 10398320., 12703970., ..., 30586660., 30671710.,\n",
       "          30752920.],\n",
       "         ...,\n",
       "         [11052870., 15530620., 18504630., ..., 34768520., 34824110.,\n",
       "          34880280.],\n",
       "         [11671660., 16325810., 19320050., ..., 35202980., 35260760.,\n",
       "          35311240.],\n",
       "         [12286480., 17084200., 20096270., ..., 35594880., 35647490.,\n",
       "          35695080.]],\n",
       " \n",
       "        [[ 6143456.,  8665944., 10585720., ..., 28262820., 28357140.,\n",
       "          28444080.],\n",
       "         [ 6755864.,  9532476., 11645990., ..., 29505710., 29594490.,\n",
       "          29680000.],\n",
       "         [ 7371856., 10398320., 12703970., ..., 30586660., 30671710.,\n",
       "          30752920.],\n",
       "         ...,\n",
       "         [11052870., 15530620., 18504630., ..., 34768520., 34824110.,\n",
       "          34880280.],\n",
       "         [11671660., 16325810., 19320050., ..., 35202980., 35260760.,\n",
       "          35311240.],\n",
       "         [12286480., 17084200., 20096270., ..., 35594880., 35647490.,\n",
       "          35695080.]],\n",
       " \n",
       "        [[ 6143456.,  8665944., 10585720., ..., 28262820., 28357140.,\n",
       "          28444080.],\n",
       "         [ 6755864.,  9532476., 11645990., ..., 29505710., 29594490.,\n",
       "          29680000.],\n",
       "         [ 7371856., 10398320., 12703970., ..., 30586660., 30671710.,\n",
       "          30752920.],\n",
       "         ...,\n",
       "         [11052870., 15530620., 18504630., ..., 34768520., 34824110.,\n",
       "          34880280.],\n",
       "         [11671660., 16325810., 19320050., ..., 35202980., 35260760.,\n",
       "          35311240.],\n",
       "         [12286480., 17084200., 20096270., ..., 35594880., 35647490.,\n",
       "          35695080.]]]))"
      ]
     },
     "execution_count": 40,
     "metadata": {},
     "output_type": "execute_result"
    }
   ],
   "source": [
    "Ntbins02,Ntbins03,Ntbins15"
   ]
  },
  {
   "cell_type": "code",
   "execution_count": 41,
   "metadata": {},
   "outputs": [],
   "source": [
    "rootN = np.sqrt(Ntbins02)"
   ]
  },
  {
   "cell_type": "code",
   "execution_count": 42,
   "metadata": {},
   "outputs": [],
   "source": [
    "sigma = np.zeros(shape=Bk.shape)\n",
    "for i in range(len(Bk)):\n",
    "\n",
    "    sigma[i] = Bk[i]*1./rootN[i]"
   ]
  },
  {
   "cell_type": "code",
   "execution_count": 43,
   "metadata": {},
   "outputs": [
    {
     "data": {
      "text/plain": [
       "array([[[-3.06663875e+04, -2.39281883e+04, -3.50060860e+04, ...,\n",
       "         -9.05108015e+03, -8.70427464e+03, -8.83702446e+03],\n",
       "        [-1.33218700e+04, -2.21757961e+04, -2.87978709e+04, ...,\n",
       "         -1.06647902e+04, -1.03740521e+04, -8.36325929e+03],\n",
       "        [-3.17225001e+04, -2.87338003e+04, -2.35090374e+04, ...,\n",
       "         -8.40298143e+03, -8.72523246e+03, -8.42118654e+03],\n",
       "        ...,\n",
       "        [-1.96255403e+03, -8.56424130e+03, -1.43145320e+04, ...,\n",
       "         -3.43239358e+03, -3.56149885e+03, -3.17050971e+03],\n",
       "        [-1.87387108e+04, -1.30029843e+04, -1.31478431e+04, ...,\n",
       "         -2.33277117e+03, -2.82336311e+03, -2.60453140e+03],\n",
       "        [-1.98636569e+04, -9.48345763e+03, -1.17341467e+04, ...,\n",
       "         -1.69858726e+03, -2.03553374e+03, -1.80520408e+03]],\n",
       "\n",
       "       [[ 2.99878612e+03,  2.32257572e+03,  1.95476262e+03, ...,\n",
       "         -3.91083017e+01, -2.15693572e+02, -2.21766581e+02],\n",
       "        [ 1.80292175e+03,  8.65489952e+02, -2.99398577e+02, ...,\n",
       "         -6.89466385e+01, -1.16653214e+02,  4.82236520e+00],\n",
       "        [ 3.33283696e+03,  1.82567682e+03, -2.63115072e+02, ...,\n",
       "         -1.87591375e+02, -6.91567737e+01, -8.80585781e+01],\n",
       "        ...,\n",
       "        [-4.05912244e+02, -1.08719193e+03, -5.10828824e+02, ...,\n",
       "         -1.48760912e+02, -1.47473036e+02, -1.23460172e+02],\n",
       "        [ 2.34237529e+03, -1.69176067e+02, -3.68524738e+02, ...,\n",
       "         -1.79949946e+02, -1.66420174e+02, -2.02500275e+02],\n",
       "        [-7.33159507e+02,  4.27973016e+02,  9.23448952e+02, ...,\n",
       "         -8.92517506e+01, -8.41008500e+01, -1.00178129e+02]],\n",
       "\n",
       "       [[ 1.84996967e+03,  1.32226646e+03,  9.64398440e+02, ...,\n",
       "         -4.46128010e+01, -2.04960636e+02, -2.02984689e+02],\n",
       "        [ 1.19058400e+03,  3.94579429e+02, -5.66785153e+02, ...,\n",
       "         -1.14931070e+02, -1.48778074e+02, -7.72353294e+01],\n",
       "        [ 2.15392055e+03,  1.09108821e+03, -3.51422499e+02, ...,\n",
       "         -1.98103906e+02, -9.56356171e+01, -1.09518170e+02],\n",
       "        ...,\n",
       "        [-2.20614161e+02, -1.06168166e+03, -3.94176376e+02, ...,\n",
       "         -1.18580360e+02, -1.24695678e+02, -1.19926582e+02],\n",
       "        [ 1.76994176e+03, -4.34715342e+01, -3.91270449e+02, ...,\n",
       "         -1.58273014e+02, -1.47042248e+02, -1.72224616e+02],\n",
       "        [-6.17600165e+02,  4.04046775e+02,  8.01565908e+02, ...,\n",
       "         -7.21872820e+01, -6.88760779e+01, -7.95768583e+01]],\n",
       "\n",
       "       ...,\n",
       "\n",
       "       [[ 1.25628936e+04,  1.05289982e+04,  9.21809826e+03, ...,\n",
       "          7.01852048e+02,  4.80435253e+02,  5.06056500e+02],\n",
       "        [ 6.51526000e+03,  5.47205931e+03,  3.05534070e+03, ...,\n",
       "          5.81498451e+02,  5.92102953e+02,  1.04307642e+03],\n",
       "        [ 1.33040579e+04,  8.75968312e+03,  2.72973202e+03, ...,\n",
       "          3.99178669e+02,  6.16295580e+02,  5.82239210e+02],\n",
       "        ...,\n",
       "        [ 1.62804458e+03,  1.52184063e+02, -7.75302204e-01, ...,\n",
       "         -3.12505152e+02, -2.05745050e+02, -1.31657424e+02],\n",
       "        [ 9.94982454e+03,  9.72394473e+02,  1.63222483e+03, ...,\n",
       "         -2.08980451e+02, -2.63247838e+02, -4.26951162e+02],\n",
       "        [ 1.28303444e+03,  2.24980820e+03,  2.67054200e+03, ...,\n",
       "          2.59818102e+01,  3.23258944e+01,  1.79742415e+01]],\n",
       "\n",
       "       [[-8.55312400e+06,  5.29381643e+05,  1.08902269e+07, ...,\n",
       "          4.84324430e+06,  4.45917170e+06,  4.37349163e+06],\n",
       "        [-6.62381750e+06, -1.86671913e+06, -4.15837863e+05, ...,\n",
       "          1.91530889e+06,  1.90387159e+06,  1.99739833e+06],\n",
       "        [ 4.33542524e+04,  9.29797007e+06,  8.69944756e+06, ...,\n",
       "          1.28830664e+06,  1.35004835e+06,  1.09204807e+06],\n",
       "        ...,\n",
       "        [ 8.65330838e+07,  3.56890755e+07,  1.80729698e+07, ...,\n",
       "          2.35365972e+04,  3.18412992e+04,  8.32297233e+04],\n",
       "        [ 1.00071327e+08,  4.16700487e+07,  2.24783609e+07, ...,\n",
       "          8.80610763e+04,  3.56995550e+04,  6.35633940e+04],\n",
       "        [ 9.82320851e+07,  3.73384556e+07,  2.45714881e+07, ...,\n",
       "          7.45973713e+04,  1.43293271e+05,  1.68006372e+05]],\n",
       "\n",
       "       [[ 8.72439575e+03,  6.66936118e+03,  4.31798422e+03, ...,\n",
       "          5.33115699e+02,  2.53871680e+02,  2.19370881e+02],\n",
       "        [ 3.98908000e+03,  2.71617719e+03,  1.17641045e+03, ...,\n",
       "         -6.65030172e+00,  9.02728967e+01,  4.43046066e+02],\n",
       "        [ 8.18563864e+03,  5.05405796e+03,  1.75713124e+03, ...,\n",
       "         -6.10354122e+01,  1.58714621e+01, -4.84225900e+01],\n",
       "        ...,\n",
       "        [ 1.23423226e+01, -8.57940167e+02, -4.67899628e+02, ...,\n",
       "         -3.65313073e+02, -3.28558378e+02, -3.05540243e+02],\n",
       "        [ 7.97255583e+03,  1.18983075e+03,  5.05450546e+02, ...,\n",
       "         -2.92408441e+02, -3.29352507e+02, -4.41644332e+02],\n",
       "        [-1.84121871e+02,  2.03846075e+03,  2.18572193e+03, ...,\n",
       "         -4.69878005e+01, -2.93461440e+01, -7.05639603e+00]]])"
      ]
     },
     "execution_count": 43,
     "metadata": {},
     "output_type": "execute_result"
    }
   ],
   "source": [
    "sigma"
   ]
  },
  {
   "cell_type": "code",
   "execution_count": null,
   "metadata": {},
   "outputs": [],
   "source": []
  }
 ],
 "metadata": {
  "kernelspec": {
   "display_name": "Python 2",
   "language": "python",
   "name": "python2"
  },
  "language_info": {
   "codemirror_mode": {
    "name": "ipython",
    "version": 2
   },
   "file_extension": ".py",
   "mimetype": "text/x-python",
   "name": "python",
   "nbconvert_exporter": "python",
   "pygments_lexer": "ipython2",
   "version": "2.7.17"
  }
 },
 "nbformat": 4,
 "nbformat_minor": 2
}
