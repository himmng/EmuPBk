{
 "cells": [
  {
   "cell_type": "code",
   "execution_count": 2,
   "metadata": {},
   "outputs": [],
   "source": [
    "from EmuPBk.ANN import Model\n",
    "import numpy as np"
   ]
  },
  {
   "cell_type": "code",
   "execution_count": 3,
   "metadata": {},
   "outputs": [],
   "source": [
    "pk = np.loadtxt('norm_pk')\n",
    "params = np.loadtxt('params')"
   ]
  },
  {
   "cell_type": "code",
   "execution_count": 4,
   "metadata": {},
   "outputs": [],
   "source": [
    "model = Model(pk,params,epochs=10)"
   ]
  },
  {
   "cell_type": "code",
   "execution_count": 5,
   "metadata": {},
   "outputs": [
    {
     "name": "stdout",
     "output_type": "stream",
     "text": [
      "WARNING:tensorflow:From /home/ht/.local/lib/python2.7/site-packages/tensorflow_core/python/keras/initializers.py:119: calling __init__ (from tensorflow.python.ops.init_ops) with dtype is deprecated and will be removed in a future version.\n",
      "Instructions for updating:\n",
      "Call initializer instance with the dtype argument instead of passing it to the constructor\n",
      "WARNING:tensorflow:From /home/ht/.local/lib/python2.7/site-packages/tensorflow_core/python/ops/resource_variable_ops.py:1630: calling __init__ (from tensorflow.python.ops.resource_variable_ops) with constraint is deprecated and will be removed in a future version.\n",
      "Instructions for updating:\n",
      "If using Keras pass *_constraint arguments to layers.\n",
      "Train on 1017 samples, validate on 41 samples\n",
      "Epoch 1/10\n",
      "1017/1017 [==============================] - 1s 727us/sample - loss: 1677.8439 - acc: 0.0698 - val_loss: 334.8774 - val_acc: 0.7561\n",
      "Epoch 2/10\n",
      "1017/1017 [==============================] - 0s 85us/sample - loss: 330.9262 - acc: 0.7955 - val_loss: 248.6660 - val_acc: 0.7317\n",
      "Epoch 3/10\n",
      "1017/1017 [==============================] - 0s 91us/sample - loss: 257.0130 - acc: 0.7955 - val_loss: 235.8371 - val_acc: 0.7317\n",
      "Epoch 4/10\n",
      "1017/1017 [==============================] - 0s 85us/sample - loss: 223.2668 - acc: 0.7955 - val_loss: 217.6774 - val_acc: 0.7317\n",
      "Epoch 5/10\n",
      "1017/1017 [==============================] - 0s 85us/sample - loss: 196.7175 - acc: 0.7955 - val_loss: 217.6046 - val_acc: 0.7317\n",
      "Epoch 6/10\n",
      "1017/1017 [==============================] - 0s 83us/sample - loss: 181.2979 - acc: 0.7955 - val_loss: 209.7135 - val_acc: 0.7317\n",
      "Epoch 7/10\n",
      "1017/1017 [==============================] - 0s 81us/sample - loss: 171.9477 - acc: 0.7955 - val_loss: 210.0926 - val_acc: 0.7317\n",
      "Epoch 8/10\n",
      "1017/1017 [==============================] - 0s 83us/sample - loss: 165.9608 - acc: 0.7955 - val_loss: 201.6102 - val_acc: 0.7317\n",
      "Epoch 9/10\n",
      "1017/1017 [==============================] - 0s 82us/sample - loss: 162.6363 - acc: 0.7955 - val_loss: 196.8254 - val_acc: 0.7317\n",
      "Epoch 10/10\n",
      "1017/1017 [==============================] - 0s 84us/sample - loss: 159.6098 - acc: 0.7955 - val_loss: 194.9161 - val_acc: 0.7317\n",
      "The model PK.h5 saved at your current directory\n"
     ]
    }
   ],
   "source": [
    "pk = model.train_Pk()\n",
    "pk"
   ]
  },
  {
   "cell_type": "code",
   "execution_count": 6,
   "metadata": {},
   "outputs": [
    {
     "name": "stdout",
     "output_type": "stream",
     "text": [
      "\u001b[0m\u001b[01;34mbuild\u001b[0m/       \u001b[01;32memu\u001b[0m*              LICENSE.txt  PK.h5      setup.py\r\n",
      "_config.yml  \u001b[01;34mEmuPBk\u001b[0m/           norm_pk      README.md  Untitled.ipynb\r\n",
      "\u001b[01;34mdist\u001b[0m/        \u001b[01;34mEmuPBk.egg-info\u001b[0m/  params       setup.cfg\r\n"
     ]
    }
   ],
   "source": [
    "%ls"
   ]
  },
  {
   "cell_type": "code",
   "execution_count": 7,
   "metadata": {},
   "outputs": [],
   "source": [
    "from EmuPBk.EMUPBK import EMUPBK"
   ]
  },
  {
   "cell_type": "code",
   "execution_count": 8,
   "metadata": {},
   "outputs": [],
   "source": [
    "model = EMUPBK()"
   ]
  },
  {
   "cell_type": "code",
   "execution_count": 9,
   "metadata": {},
   "outputs": [],
   "source": [
    "param = np.array([20,30,50])"
   ]
  },
  {
   "cell_type": "code",
   "execution_count": 18,
   "metadata": {},
   "outputs": [],
   "source": [
    "Pk = model.PK(param,)"
   ]
  },
  {
   "cell_type": "code",
   "execution_count": 19,
   "metadata": {},
   "outputs": [
    {
     "data": {
      "text/plain": [
       "array([[ 2.3621674,  5.9627905, 11.066928 , 21.300629 , 39.322014 ,\n",
       "        63.717175 , 84.40458  ]], dtype=float32)"
      ]
     },
     "execution_count": 19,
     "metadata": {},
     "output_type": "execute_result"
    }
   ],
   "source": [
    "Pk"
   ]
  },
  {
   "cell_type": "code",
   "execution_count": null,
   "metadata": {},
   "outputs": [],
   "source": []
  }
 ],
 "metadata": {
  "kernelspec": {
   "display_name": "Python 2",
   "language": "python",
   "name": "python2"
  },
  "language_info": {
   "codemirror_mode": {
    "name": "ipython",
    "version": 2
   },
   "file_extension": ".py",
   "mimetype": "text/x-python",
   "name": "python",
   "nbconvert_exporter": "python",
   "pygments_lexer": "ipython2",
   "version": "2.7.17"
  }
 },
 "nbformat": 4,
 "nbformat_minor": 2
}
